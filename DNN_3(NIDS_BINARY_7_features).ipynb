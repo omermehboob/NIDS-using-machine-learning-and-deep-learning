{
  "nbformat": 4,
  "nbformat_minor": 0,
  "metadata": {
    "colab": {
      "name": "DNN_3 (NIDS_BINARY_7_features).ipynb",
      "provenance": [],
      "collapsed_sections": [],
      "mount_file_id": "18CvPQD0fL5_X-yPx6J3ll0pCx4AnlQyT",
      "authorship_tag": "ABX9TyOszEa1T7k6enjMvXHvTj1X",
      "include_colab_link": true
    },
    "kernelspec": {
      "name": "python3",
      "display_name": "Python 3"
    },
    "language_info": {
      "name": "python"
    },
    "accelerator": "GPU",
    "gpuClass": "standard"
  },
  "cells": [
    {
      "cell_type": "markdown",
      "metadata": {
        "id": "view-in-github",
        "colab_type": "text"
      },
      "source": [
        "<a href=\"https://colab.research.google.com/github/omermehboob/NIDS-using-machine-learning-and-deep-learning/blob/main/DNN_3(NIDS_BINARY_7_features).ipynb\" target=\"_parent\"><img src=\"https://colab.research.google.com/assets/colab-badge.svg\" alt=\"Open In Colab\"/></a>"
      ]
    },
    {
      "cell_type": "code",
      "source": [
        "from google.colab import drive\n",
        "drive.mount('/content/drive')"
      ],
      "metadata": {
        "colab": {
          "base_uri": "https://localhost:8080/"
        },
        "id": "iSgRWsCkQETH",
        "outputId": "3e999e12-90d3-476d-b125-de063544cffb"
      },
      "execution_count": 1,
      "outputs": [
        {
          "output_type": "stream",
          "name": "stdout",
          "text": [
            "Drive already mounted at /content/drive; to attempt to forcibly remount, call drive.mount(\"/content/drive\", force_remount=True).\n"
          ]
        }
      ]
    },
    {
      "cell_type": "code",
      "execution_count": 2,
      "metadata": {
        "id": "P0Y-FXCOatws"
      },
      "outputs": [],
      "source": [
        "from __future__ import print_function\n",
        "from sklearn.model_selection import train_test_split\n",
        "import pandas as pd\n",
        "import numpy as np\n",
        "np.random.seed(1337)  # for reproducibility\n",
        "from keras.preprocessing import sequence\n",
        "from keras.utils import np_utils\n",
        "from keras.models import Sequential\n",
        "from keras.layers import Dense, Dropout, Activation, Embedding\n",
        "from keras.utils.np_utils import to_categorical\n",
        "from sklearn.metrics import (precision_score, recall_score,f1_score, accuracy_score,mean_squared_error,mean_absolute_error)\n",
        "from sklearn import metrics\n",
        "from sklearn.preprocessing import Normalizer\n",
        "import h5py\n",
        "from keras import callbacks\n",
        "from keras.callbacks import ModelCheckpoint, EarlyStopping, ReduceLROnPlateau, CSVLogger"
      ]
    },
    {
      "cell_type": "code",
      "source": [
        "df = pd.read_csv('/content/drive/MyDrive/Refined_data_set(label_encoding_7_features).csv')"
      ],
      "metadata": {
        "id": "AJTCderoaxGm"
      },
      "execution_count": 3,
      "outputs": []
    },
    {
      "cell_type": "code",
      "source": [
        "df.shape"
      ],
      "metadata": {
        "id": "juzYAEkCaxDs",
        "colab": {
          "base_uri": "https://localhost:8080/"
        },
        "outputId": "1d052728-7d6d-4bc0-bf22-c758cf3535ea"
      },
      "execution_count": 4,
      "outputs": [
        {
          "output_type": "execute_result",
          "data": {
            "text/plain": [
              "(1336498, 9)"
            ]
          },
          "metadata": {},
          "execution_count": 4
        }
      ]
    },
    {
      "cell_type": "code",
      "source": [
        "df.head()"
      ],
      "metadata": {
        "id": "7eUYvjp6axAX",
        "colab": {
          "base_uri": "https://localhost:8080/",
          "height": 268
        },
        "outputId": "0dd8ce75-dd7b-4ab9-e584-bd0c785d6f10"
      },
      "execution_count": 5,
      "outputs": [
        {
          "output_type": "execute_result",
          "data": {
            "text/plain": [
              "   Unnamed: 0  Bwd Packet Length Std  Flow Bytes/s  \\\n",
              "0           0                0.00000          2046   \n",
              "1           1                0.00000             7   \n",
              "2           2                0.00000             2   \n",
              "3           3                0.00000       1081081   \n",
              "4           4              426.14309            57   \n",
              "\n",
              "   Total Length of Fwd Packets  Fwd Packet Length Std  Flow IAT Std  \\\n",
              "0                        140.0               0.000000  7.124800e+04   \n",
              "1                         30.0               0.000000  2.005113e+06   \n",
              "2                         12.0               3.464102  3.057131e+06   \n",
              "3                         64.0               0.000000  4.901360e+01   \n",
              "4                       2691.0             181.667939  4.191832e+06   \n",
              "\n",
              "   Flow IAT Min  Fwd IAT Total  Label  \n",
              "0           3.0        29304.0      1  \n",
              "1          10.0      4016867.0      0  \n",
              "2          97.0      5318063.0      1  \n",
              "3           1.0           48.0      1  \n",
              "4          39.0    117000000.0      1  "
            ],
            "text/html": [
              "\n",
              "  <div id=\"df-9bcbf578-7948-4200-8394-8fc3a4f15873\">\n",
              "    <div class=\"colab-df-container\">\n",
              "      <div>\n",
              "<style scoped>\n",
              "    .dataframe tbody tr th:only-of-type {\n",
              "        vertical-align: middle;\n",
              "    }\n",
              "\n",
              "    .dataframe tbody tr th {\n",
              "        vertical-align: top;\n",
              "    }\n",
              "\n",
              "    .dataframe thead th {\n",
              "        text-align: right;\n",
              "    }\n",
              "</style>\n",
              "<table border=\"1\" class=\"dataframe\">\n",
              "  <thead>\n",
              "    <tr style=\"text-align: right;\">\n",
              "      <th></th>\n",
              "      <th>Unnamed: 0</th>\n",
              "      <th>Bwd Packet Length Std</th>\n",
              "      <th>Flow Bytes/s</th>\n",
              "      <th>Total Length of Fwd Packets</th>\n",
              "      <th>Fwd Packet Length Std</th>\n",
              "      <th>Flow IAT Std</th>\n",
              "      <th>Flow IAT Min</th>\n",
              "      <th>Fwd IAT Total</th>\n",
              "      <th>Label</th>\n",
              "    </tr>\n",
              "  </thead>\n",
              "  <tbody>\n",
              "    <tr>\n",
              "      <th>0</th>\n",
              "      <td>0</td>\n",
              "      <td>0.00000</td>\n",
              "      <td>2046</td>\n",
              "      <td>140.0</td>\n",
              "      <td>0.000000</td>\n",
              "      <td>7.124800e+04</td>\n",
              "      <td>3.0</td>\n",
              "      <td>29304.0</td>\n",
              "      <td>1</td>\n",
              "    </tr>\n",
              "    <tr>\n",
              "      <th>1</th>\n",
              "      <td>1</td>\n",
              "      <td>0.00000</td>\n",
              "      <td>7</td>\n",
              "      <td>30.0</td>\n",
              "      <td>0.000000</td>\n",
              "      <td>2.005113e+06</td>\n",
              "      <td>10.0</td>\n",
              "      <td>4016867.0</td>\n",
              "      <td>0</td>\n",
              "    </tr>\n",
              "    <tr>\n",
              "      <th>2</th>\n",
              "      <td>2</td>\n",
              "      <td>0.00000</td>\n",
              "      <td>2</td>\n",
              "      <td>12.0</td>\n",
              "      <td>3.464102</td>\n",
              "      <td>3.057131e+06</td>\n",
              "      <td>97.0</td>\n",
              "      <td>5318063.0</td>\n",
              "      <td>1</td>\n",
              "    </tr>\n",
              "    <tr>\n",
              "      <th>3</th>\n",
              "      <td>3</td>\n",
              "      <td>0.00000</td>\n",
              "      <td>1081081</td>\n",
              "      <td>64.0</td>\n",
              "      <td>0.000000</td>\n",
              "      <td>4.901360e+01</td>\n",
              "      <td>1.0</td>\n",
              "      <td>48.0</td>\n",
              "      <td>1</td>\n",
              "    </tr>\n",
              "    <tr>\n",
              "      <th>4</th>\n",
              "      <td>4</td>\n",
              "      <td>426.14309</td>\n",
              "      <td>57</td>\n",
              "      <td>2691.0</td>\n",
              "      <td>181.667939</td>\n",
              "      <td>4.191832e+06</td>\n",
              "      <td>39.0</td>\n",
              "      <td>117000000.0</td>\n",
              "      <td>1</td>\n",
              "    </tr>\n",
              "  </tbody>\n",
              "</table>\n",
              "</div>\n",
              "      <button class=\"colab-df-convert\" onclick=\"convertToInteractive('df-9bcbf578-7948-4200-8394-8fc3a4f15873')\"\n",
              "              title=\"Convert this dataframe to an interactive table.\"\n",
              "              style=\"display:none;\">\n",
              "        \n",
              "  <svg xmlns=\"http://www.w3.org/2000/svg\" height=\"24px\"viewBox=\"0 0 24 24\"\n",
              "       width=\"24px\">\n",
              "    <path d=\"M0 0h24v24H0V0z\" fill=\"none\"/>\n",
              "    <path d=\"M18.56 5.44l.94 2.06.94-2.06 2.06-.94-2.06-.94-.94-2.06-.94 2.06-2.06.94zm-11 1L8.5 8.5l.94-2.06 2.06-.94-2.06-.94L8.5 2.5l-.94 2.06-2.06.94zm10 10l.94 2.06.94-2.06 2.06-.94-2.06-.94-.94-2.06-.94 2.06-2.06.94z\"/><path d=\"M17.41 7.96l-1.37-1.37c-.4-.4-.92-.59-1.43-.59-.52 0-1.04.2-1.43.59L10.3 9.45l-7.72 7.72c-.78.78-.78 2.05 0 2.83L4 21.41c.39.39.9.59 1.41.59.51 0 1.02-.2 1.41-.59l7.78-7.78 2.81-2.81c.8-.78.8-2.07 0-2.86zM5.41 20L4 18.59l7.72-7.72 1.47 1.35L5.41 20z\"/>\n",
              "  </svg>\n",
              "      </button>\n",
              "      \n",
              "  <style>\n",
              "    .colab-df-container {\n",
              "      display:flex;\n",
              "      flex-wrap:wrap;\n",
              "      gap: 12px;\n",
              "    }\n",
              "\n",
              "    .colab-df-convert {\n",
              "      background-color: #E8F0FE;\n",
              "      border: none;\n",
              "      border-radius: 50%;\n",
              "      cursor: pointer;\n",
              "      display: none;\n",
              "      fill: #1967D2;\n",
              "      height: 32px;\n",
              "      padding: 0 0 0 0;\n",
              "      width: 32px;\n",
              "    }\n",
              "\n",
              "    .colab-df-convert:hover {\n",
              "      background-color: #E2EBFA;\n",
              "      box-shadow: 0px 1px 2px rgba(60, 64, 67, 0.3), 0px 1px 3px 1px rgba(60, 64, 67, 0.15);\n",
              "      fill: #174EA6;\n",
              "    }\n",
              "\n",
              "    [theme=dark] .colab-df-convert {\n",
              "      background-color: #3B4455;\n",
              "      fill: #D2E3FC;\n",
              "    }\n",
              "\n",
              "    [theme=dark] .colab-df-convert:hover {\n",
              "      background-color: #434B5C;\n",
              "      box-shadow: 0px 1px 3px 1px rgba(0, 0, 0, 0.15);\n",
              "      filter: drop-shadow(0px 1px 2px rgba(0, 0, 0, 0.3));\n",
              "      fill: #FFFFFF;\n",
              "    }\n",
              "  </style>\n",
              "\n",
              "      <script>\n",
              "        const buttonEl =\n",
              "          document.querySelector('#df-9bcbf578-7948-4200-8394-8fc3a4f15873 button.colab-df-convert');\n",
              "        buttonEl.style.display =\n",
              "          google.colab.kernel.accessAllowed ? 'block' : 'none';\n",
              "\n",
              "        async function convertToInteractive(key) {\n",
              "          const element = document.querySelector('#df-9bcbf578-7948-4200-8394-8fc3a4f15873');\n",
              "          const dataTable =\n",
              "            await google.colab.kernel.invokeFunction('convertToInteractive',\n",
              "                                                     [key], {});\n",
              "          if (!dataTable) return;\n",
              "\n",
              "          const docLinkHtml = 'Like what you see? Visit the ' +\n",
              "            '<a target=\"_blank\" href=https://colab.research.google.com/notebooks/data_table.ipynb>data table notebook</a>'\n",
              "            + ' to learn more about interactive tables.';\n",
              "          element.innerHTML = '';\n",
              "          dataTable['output_type'] = 'display_data';\n",
              "          await google.colab.output.renderOutput(dataTable, element);\n",
              "          const docLink = document.createElement('div');\n",
              "          docLink.innerHTML = docLinkHtml;\n",
              "          element.appendChild(docLink);\n",
              "        }\n",
              "      </script>\n",
              "    </div>\n",
              "  </div>\n",
              "  "
            ]
          },
          "metadata": {},
          "execution_count": 5
        }
      ]
    },
    {
      "cell_type": "code",
      "source": [
        "df.drop('Unnamed: 0', axis=1, inplace=True)"
      ],
      "metadata": {
        "id": "wSlFkf0Eaw_I"
      },
      "execution_count": 6,
      "outputs": []
    },
    {
      "cell_type": "code",
      "source": [
        "df.head()"
      ],
      "metadata": {
        "id": "siMzWHFlaw7s",
        "colab": {
          "base_uri": "https://localhost:8080/",
          "height": 268
        },
        "outputId": "e70869df-9360-4a09-f893-b9d7c10df704"
      },
      "execution_count": 7,
      "outputs": [
        {
          "output_type": "execute_result",
          "data": {
            "text/plain": [
              "   Bwd Packet Length Std  Flow Bytes/s  Total Length of Fwd Packets  \\\n",
              "0                0.00000          2046                        140.0   \n",
              "1                0.00000             7                         30.0   \n",
              "2                0.00000             2                         12.0   \n",
              "3                0.00000       1081081                         64.0   \n",
              "4              426.14309            57                       2691.0   \n",
              "\n",
              "   Fwd Packet Length Std  Flow IAT Std  Flow IAT Min  Fwd IAT Total  Label  \n",
              "0               0.000000  7.124800e+04           3.0        29304.0      1  \n",
              "1               0.000000  2.005113e+06          10.0      4016867.0      0  \n",
              "2               3.464102  3.057131e+06          97.0      5318063.0      1  \n",
              "3               0.000000  4.901360e+01           1.0           48.0      1  \n",
              "4             181.667939  4.191832e+06          39.0    117000000.0      1  "
            ],
            "text/html": [
              "\n",
              "  <div id=\"df-4c29f7c7-1805-4a45-bfd3-44308884a304\">\n",
              "    <div class=\"colab-df-container\">\n",
              "      <div>\n",
              "<style scoped>\n",
              "    .dataframe tbody tr th:only-of-type {\n",
              "        vertical-align: middle;\n",
              "    }\n",
              "\n",
              "    .dataframe tbody tr th {\n",
              "        vertical-align: top;\n",
              "    }\n",
              "\n",
              "    .dataframe thead th {\n",
              "        text-align: right;\n",
              "    }\n",
              "</style>\n",
              "<table border=\"1\" class=\"dataframe\">\n",
              "  <thead>\n",
              "    <tr style=\"text-align: right;\">\n",
              "      <th></th>\n",
              "      <th>Bwd Packet Length Std</th>\n",
              "      <th>Flow Bytes/s</th>\n",
              "      <th>Total Length of Fwd Packets</th>\n",
              "      <th>Fwd Packet Length Std</th>\n",
              "      <th>Flow IAT Std</th>\n",
              "      <th>Flow IAT Min</th>\n",
              "      <th>Fwd IAT Total</th>\n",
              "      <th>Label</th>\n",
              "    </tr>\n",
              "  </thead>\n",
              "  <tbody>\n",
              "    <tr>\n",
              "      <th>0</th>\n",
              "      <td>0.00000</td>\n",
              "      <td>2046</td>\n",
              "      <td>140.0</td>\n",
              "      <td>0.000000</td>\n",
              "      <td>7.124800e+04</td>\n",
              "      <td>3.0</td>\n",
              "      <td>29304.0</td>\n",
              "      <td>1</td>\n",
              "    </tr>\n",
              "    <tr>\n",
              "      <th>1</th>\n",
              "      <td>0.00000</td>\n",
              "      <td>7</td>\n",
              "      <td>30.0</td>\n",
              "      <td>0.000000</td>\n",
              "      <td>2.005113e+06</td>\n",
              "      <td>10.0</td>\n",
              "      <td>4016867.0</td>\n",
              "      <td>0</td>\n",
              "    </tr>\n",
              "    <tr>\n",
              "      <th>2</th>\n",
              "      <td>0.00000</td>\n",
              "      <td>2</td>\n",
              "      <td>12.0</td>\n",
              "      <td>3.464102</td>\n",
              "      <td>3.057131e+06</td>\n",
              "      <td>97.0</td>\n",
              "      <td>5318063.0</td>\n",
              "      <td>1</td>\n",
              "    </tr>\n",
              "    <tr>\n",
              "      <th>3</th>\n",
              "      <td>0.00000</td>\n",
              "      <td>1081081</td>\n",
              "      <td>64.0</td>\n",
              "      <td>0.000000</td>\n",
              "      <td>4.901360e+01</td>\n",
              "      <td>1.0</td>\n",
              "      <td>48.0</td>\n",
              "      <td>1</td>\n",
              "    </tr>\n",
              "    <tr>\n",
              "      <th>4</th>\n",
              "      <td>426.14309</td>\n",
              "      <td>57</td>\n",
              "      <td>2691.0</td>\n",
              "      <td>181.667939</td>\n",
              "      <td>4.191832e+06</td>\n",
              "      <td>39.0</td>\n",
              "      <td>117000000.0</td>\n",
              "      <td>1</td>\n",
              "    </tr>\n",
              "  </tbody>\n",
              "</table>\n",
              "</div>\n",
              "      <button class=\"colab-df-convert\" onclick=\"convertToInteractive('df-4c29f7c7-1805-4a45-bfd3-44308884a304')\"\n",
              "              title=\"Convert this dataframe to an interactive table.\"\n",
              "              style=\"display:none;\">\n",
              "        \n",
              "  <svg xmlns=\"http://www.w3.org/2000/svg\" height=\"24px\"viewBox=\"0 0 24 24\"\n",
              "       width=\"24px\">\n",
              "    <path d=\"M0 0h24v24H0V0z\" fill=\"none\"/>\n",
              "    <path d=\"M18.56 5.44l.94 2.06.94-2.06 2.06-.94-2.06-.94-.94-2.06-.94 2.06-2.06.94zm-11 1L8.5 8.5l.94-2.06 2.06-.94-2.06-.94L8.5 2.5l-.94 2.06-2.06.94zm10 10l.94 2.06.94-2.06 2.06-.94-2.06-.94-.94-2.06-.94 2.06-2.06.94z\"/><path d=\"M17.41 7.96l-1.37-1.37c-.4-.4-.92-.59-1.43-.59-.52 0-1.04.2-1.43.59L10.3 9.45l-7.72 7.72c-.78.78-.78 2.05 0 2.83L4 21.41c.39.39.9.59 1.41.59.51 0 1.02-.2 1.41-.59l7.78-7.78 2.81-2.81c.8-.78.8-2.07 0-2.86zM5.41 20L4 18.59l7.72-7.72 1.47 1.35L5.41 20z\"/>\n",
              "  </svg>\n",
              "      </button>\n",
              "      \n",
              "  <style>\n",
              "    .colab-df-container {\n",
              "      display:flex;\n",
              "      flex-wrap:wrap;\n",
              "      gap: 12px;\n",
              "    }\n",
              "\n",
              "    .colab-df-convert {\n",
              "      background-color: #E8F0FE;\n",
              "      border: none;\n",
              "      border-radius: 50%;\n",
              "      cursor: pointer;\n",
              "      display: none;\n",
              "      fill: #1967D2;\n",
              "      height: 32px;\n",
              "      padding: 0 0 0 0;\n",
              "      width: 32px;\n",
              "    }\n",
              "\n",
              "    .colab-df-convert:hover {\n",
              "      background-color: #E2EBFA;\n",
              "      box-shadow: 0px 1px 2px rgba(60, 64, 67, 0.3), 0px 1px 3px 1px rgba(60, 64, 67, 0.15);\n",
              "      fill: #174EA6;\n",
              "    }\n",
              "\n",
              "    [theme=dark] .colab-df-convert {\n",
              "      background-color: #3B4455;\n",
              "      fill: #D2E3FC;\n",
              "    }\n",
              "\n",
              "    [theme=dark] .colab-df-convert:hover {\n",
              "      background-color: #434B5C;\n",
              "      box-shadow: 0px 1px 3px 1px rgba(0, 0, 0, 0.15);\n",
              "      filter: drop-shadow(0px 1px 2px rgba(0, 0, 0, 0.3));\n",
              "      fill: #FFFFFF;\n",
              "    }\n",
              "  </style>\n",
              "\n",
              "      <script>\n",
              "        const buttonEl =\n",
              "          document.querySelector('#df-4c29f7c7-1805-4a45-bfd3-44308884a304 button.colab-df-convert');\n",
              "        buttonEl.style.display =\n",
              "          google.colab.kernel.accessAllowed ? 'block' : 'none';\n",
              "\n",
              "        async function convertToInteractive(key) {\n",
              "          const element = document.querySelector('#df-4c29f7c7-1805-4a45-bfd3-44308884a304');\n",
              "          const dataTable =\n",
              "            await google.colab.kernel.invokeFunction('convertToInteractive',\n",
              "                                                     [key], {});\n",
              "          if (!dataTable) return;\n",
              "\n",
              "          const docLinkHtml = 'Like what you see? Visit the ' +\n",
              "            '<a target=\"_blank\" href=https://colab.research.google.com/notebooks/data_table.ipynb>data table notebook</a>'\n",
              "            + ' to learn more about interactive tables.';\n",
              "          element.innerHTML = '';\n",
              "          dataTable['output_type'] = 'display_data';\n",
              "          await google.colab.output.renderOutput(dataTable, element);\n",
              "          const docLink = document.createElement('div');\n",
              "          docLink.innerHTML = docLinkHtml;\n",
              "          element.appendChild(docLink);\n",
              "        }\n",
              "      </script>\n",
              "    </div>\n",
              "  </div>\n",
              "  "
            ]
          },
          "metadata": {},
          "execution_count": 7
        }
      ]
    },
    {
      "cell_type": "code",
      "source": [
        "X=df[[\"Bwd Packet Length Std\", \"Flow Bytes/s\", \"Total Length of Fwd Packets\", \"Fwd Packet Length Std\",\n",
        "     \"Flow IAT Std\", \"Flow IAT Min\", \"Fwd IAT Total\"]]\n",
        "y=df[[\"Label\"]]"
      ],
      "metadata": {
        "id": "nkaPZ29Raw6k"
      },
      "execution_count": 8,
      "outputs": []
    },
    {
      "cell_type": "code",
      "source": [
        "print(X.shape)\n",
        "print(y.shape)"
      ],
      "metadata": {
        "id": "PTCEfbBoaw2c",
        "colab": {
          "base_uri": "https://localhost:8080/"
        },
        "outputId": "375a198f-5774-4972-bf34-d299c76bbcc6"
      },
      "execution_count": 9,
      "outputs": [
        {
          "output_type": "stream",
          "name": "stdout",
          "text": [
            "(1336498, 7)\n",
            "(1336498, 1)\n"
          ]
        }
      ]
    },
    {
      "cell_type": "code",
      "source": [
        "X_train, X_test, y_train, y_test = train_test_split(X, y, test_size = 0.20)"
      ],
      "metadata": {
        "id": "xqKjRgr7aw03"
      },
      "execution_count": 10,
      "outputs": []
    },
    {
      "cell_type": "code",
      "source": [
        "scaler = Normalizer().fit(X_train)\n",
        "X_train = scaler.transform(X_train)\n",
        "\n",
        "scaler = Normalizer().fit(y_train)\n",
        "y_train = scaler.transform(y_train)"
      ],
      "metadata": {
        "id": "djcwv4R0awx5"
      },
      "execution_count": 11,
      "outputs": []
    },
    {
      "cell_type": "code",
      "source": [
        "model = Sequential()\n",
        "model.add(Dense(600,input_dim=7,activation='relu'))  \n",
        "model.add(Dropout(0.10))\n",
        "model.add(Dense(300,activation='relu'))  \n",
        "model.add(Dropout(0.10))\n",
        "model.add(Dense(150,activation='relu'))  \n",
        "model.add(Dropout(0.10))\n",
        "model.add(Dense(1))\n",
        "model.add(Activation('sigmoid'))\n",
        "\n",
        "model.summary()"
      ],
      "metadata": {
        "id": "vqBAgCJdawwk",
        "colab": {
          "base_uri": "https://localhost:8080/"
        },
        "outputId": "35d25a46-2b14-46b1-a636-24cfc97833b9"
      },
      "execution_count": 12,
      "outputs": [
        {
          "output_type": "stream",
          "name": "stdout",
          "text": [
            "Model: \"sequential\"\n",
            "_________________________________________________________________\n",
            " Layer (type)                Output Shape              Param #   \n",
            "=================================================================\n",
            " dense (Dense)               (None, 600)               4800      \n",
            "                                                                 \n",
            " dropout (Dropout)           (None, 600)               0         \n",
            "                                                                 \n",
            " dense_1 (Dense)             (None, 300)               180300    \n",
            "                                                                 \n",
            " dropout_1 (Dropout)         (None, 300)               0         \n",
            "                                                                 \n",
            " dense_2 (Dense)             (None, 150)               45150     \n",
            "                                                                 \n",
            " dropout_2 (Dropout)         (None, 150)               0         \n",
            "                                                                 \n",
            " dense_3 (Dense)             (None, 1)                 151       \n",
            "                                                                 \n",
            " activation (Activation)     (None, 1)                 0         \n",
            "                                                                 \n",
            "=================================================================\n",
            "Total params: 230,401\n",
            "Trainable params: 230,401\n",
            "Non-trainable params: 0\n",
            "_________________________________________________________________\n"
          ]
        }
      ]
    },
    {
      "cell_type": "code",
      "source": [
        "model.compile(loss='binary_crossentropy',optimizer='adam',metrics=['accuracy'])\n",
        "model.fit(X_train, y_train, validation_data=(X_test, y_test), batch_size=512, epochs=100)"
      ],
      "metadata": {
        "id": "bSrl13xwbr3v",
        "colab": {
          "base_uri": "https://localhost:8080/"
        },
        "outputId": "c41c0a51-96c0-4549-b6ca-f3344b2bdf41"
      },
      "execution_count": 13,
      "outputs": [
        {
          "output_type": "stream",
          "name": "stdout",
          "text": [
            "Epoch 1/100\n",
            "2089/2089 [==============================] - 16s 6ms/step - loss: 0.3451 - accuracy: 0.8553 - val_loss: 5971909.5000 - val_accuracy: 0.8257\n",
            "Epoch 2/100\n",
            "2089/2089 [==============================] - 9s 4ms/step - loss: 0.3288 - accuracy: 0.8607 - val_loss: 3512501.7500 - val_accuracy: 0.8364\n",
            "Epoch 3/100\n",
            "2089/2089 [==============================] - 8s 4ms/step - loss: 0.3219 - accuracy: 0.8629 - val_loss: 1929665.5000 - val_accuracy: 0.8477\n",
            "Epoch 4/100\n",
            "2089/2089 [==============================] - 7s 4ms/step - loss: 0.3134 - accuracy: 0.8655 - val_loss: 1523314.5000 - val_accuracy: 0.8456\n",
            "Epoch 5/100\n",
            "2089/2089 [==============================] - 7s 4ms/step - loss: 0.2624 - accuracy: 0.8865 - val_loss: 724062.0625 - val_accuracy: 0.8570\n",
            "Epoch 6/100\n",
            "2089/2089 [==============================] - 9s 4ms/step - loss: 0.2340 - accuracy: 0.9038 - val_loss: 696509.7500 - val_accuracy: 0.8250\n",
            "Epoch 7/100\n",
            "2089/2089 [==============================] - 7s 4ms/step - loss: 0.2234 - accuracy: 0.9080 - val_loss: 701236.6250 - val_accuracy: 0.8251\n",
            "Epoch 8/100\n",
            "2089/2089 [==============================] - 8s 4ms/step - loss: 0.2201 - accuracy: 0.9096 - val_loss: 1002622.3125 - val_accuracy: 0.8251\n",
            "Epoch 9/100\n",
            "2089/2089 [==============================] - 8s 4ms/step - loss: 0.2233 - accuracy: 0.9076 - val_loss: 2438479.7500 - val_accuracy: 0.8247\n",
            "Epoch 10/100\n",
            "2089/2089 [==============================] - 8s 4ms/step - loss: 0.2205 - accuracy: 0.9089 - val_loss: 11638077.0000 - val_accuracy: 0.8246\n",
            "Epoch 11/100\n",
            "2089/2089 [==============================] - 7s 4ms/step - loss: 0.2140 - accuracy: 0.9115 - val_loss: 7155045.5000 - val_accuracy: 0.8249\n",
            "Epoch 12/100\n",
            "2089/2089 [==============================] - 8s 4ms/step - loss: 0.2204 - accuracy: 0.9074 - val_loss: 22102676.0000 - val_accuracy: 0.8245\n",
            "Epoch 13/100\n",
            "2089/2089 [==============================] - 7s 4ms/step - loss: 0.2173 - accuracy: 0.9090 - val_loss: 15988338.0000 - val_accuracy: 0.8252\n",
            "Epoch 14/100\n",
            "2089/2089 [==============================] - 8s 4ms/step - loss: 0.2136 - accuracy: 0.9106 - val_loss: 24916428.0000 - val_accuracy: 0.8252\n",
            "Epoch 15/100\n",
            "2089/2089 [==============================] - 7s 4ms/step - loss: 0.2090 - accuracy: 0.9124 - val_loss: 11390873.0000 - val_accuracy: 0.8246\n",
            "Epoch 16/100\n",
            "2089/2089 [==============================] - 7s 4ms/step - loss: 0.2068 - accuracy: 0.9136 - val_loss: 17862910.0000 - val_accuracy: 0.8248\n",
            "Epoch 17/100\n",
            "2089/2089 [==============================] - 8s 4ms/step - loss: 0.2058 - accuracy: 0.9135 - val_loss: 10477273.0000 - val_accuracy: 0.8248\n",
            "Epoch 18/100\n",
            "2089/2089 [==============================] - 8s 4ms/step - loss: 0.2204 - accuracy: 0.9058 - val_loss: 22776388.0000 - val_accuracy: 0.8252\n",
            "Epoch 19/100\n",
            "2089/2089 [==============================] - 10s 5ms/step - loss: 0.2110 - accuracy: 0.9105 - val_loss: 28620494.0000 - val_accuracy: 0.8244\n",
            "Epoch 20/100\n",
            "2089/2089 [==============================] - 8s 4ms/step - loss: 0.2049 - accuracy: 0.9139 - val_loss: 27739986.0000 - val_accuracy: 0.8248\n",
            "Epoch 21/100\n",
            "2089/2089 [==============================] - 7s 4ms/step - loss: 0.2010 - accuracy: 0.9154 - val_loss: 60441936.0000 - val_accuracy: 0.8250\n",
            "Epoch 22/100\n",
            "2089/2089 [==============================] - 7s 4ms/step - loss: 0.2014 - accuracy: 0.9153 - val_loss: 41186476.0000 - val_accuracy: 0.8252\n",
            "Epoch 23/100\n",
            "2089/2089 [==============================] - 8s 4ms/step - loss: 0.2004 - accuracy: 0.9160 - val_loss: 49066600.0000 - val_accuracy: 0.8256\n",
            "Epoch 24/100\n",
            "2089/2089 [==============================] - 8s 4ms/step - loss: 0.2045 - accuracy: 0.9129 - val_loss: 69219296.0000 - val_accuracy: 0.8252\n",
            "Epoch 25/100\n",
            "2089/2089 [==============================] - 7s 4ms/step - loss: 0.2014 - accuracy: 0.9145 - val_loss: 79446096.0000 - val_accuracy: 0.8253\n",
            "Epoch 26/100\n",
            "2089/2089 [==============================] - 8s 4ms/step - loss: 0.1999 - accuracy: 0.9146 - val_loss: 135579808.0000 - val_accuracy: 0.8249\n",
            "Epoch 27/100\n",
            "2089/2089 [==============================] - 7s 4ms/step - loss: 0.1984 - accuracy: 0.9154 - val_loss: 97714024.0000 - val_accuracy: 0.8255\n",
            "Epoch 28/100\n",
            "2089/2089 [==============================] - 9s 4ms/step - loss: 0.1941 - accuracy: 0.9175 - val_loss: 131745408.0000 - val_accuracy: 0.8249\n",
            "Epoch 29/100\n",
            "2089/2089 [==============================] - 7s 4ms/step - loss: 0.1955 - accuracy: 0.9164 - val_loss: 168382656.0000 - val_accuracy: 0.8252\n",
            "Epoch 30/100\n",
            "2089/2089 [==============================] - 8s 4ms/step - loss: 0.1915 - accuracy: 0.9179 - val_loss: 272669120.0000 - val_accuracy: 0.8246\n",
            "Epoch 31/100\n",
            "2089/2089 [==============================] - 8s 4ms/step - loss: 0.1911 - accuracy: 0.9182 - val_loss: 293623232.0000 - val_accuracy: 0.8243\n",
            "Epoch 32/100\n",
            "2089/2089 [==============================] - 8s 4ms/step - loss: 0.1872 - accuracy: 0.9195 - val_loss: 358300000.0000 - val_accuracy: 0.8241\n",
            "Epoch 33/100\n",
            "2089/2089 [==============================] - 9s 4ms/step - loss: 0.1901 - accuracy: 0.9183 - val_loss: 417186144.0000 - val_accuracy: 0.8241\n",
            "Epoch 34/100\n",
            "2089/2089 [==============================] - 7s 4ms/step - loss: 0.1867 - accuracy: 0.9197 - val_loss: 357580000.0000 - val_accuracy: 0.8255\n",
            "Epoch 35/100\n",
            "2089/2089 [==============================] - 8s 4ms/step - loss: 0.1856 - accuracy: 0.9204 - val_loss: 532605248.0000 - val_accuracy: 0.8245\n",
            "Epoch 36/100\n",
            "2089/2089 [==============================] - 8s 4ms/step - loss: 0.1842 - accuracy: 0.9209 - val_loss: 574894656.0000 - val_accuracy: 0.8257\n",
            "Epoch 37/100\n",
            "2089/2089 [==============================] - 8s 4ms/step - loss: 0.1826 - accuracy: 0.9217 - val_loss: 578008448.0000 - val_accuracy: 0.8254\n",
            "Epoch 38/100\n",
            "2089/2089 [==============================] - 7s 4ms/step - loss: 0.1846 - accuracy: 0.9205 - val_loss: 624494464.0000 - val_accuracy: 0.8253\n",
            "Epoch 39/100\n",
            "2089/2089 [==============================] - 8s 4ms/step - loss: 0.1794 - accuracy: 0.9231 - val_loss: 782001728.0000 - val_accuracy: 0.8258\n",
            "Epoch 40/100\n",
            "2089/2089 [==============================] - 8s 4ms/step - loss: 0.1824 - accuracy: 0.9217 - val_loss: 761004480.0000 - val_accuracy: 0.8249\n",
            "Epoch 41/100\n",
            "2089/2089 [==============================] - 8s 4ms/step - loss: 0.1826 - accuracy: 0.9220 - val_loss: 683719616.0000 - val_accuracy: 0.8253\n",
            "Epoch 42/100\n",
            "2089/2089 [==============================] - 7s 4ms/step - loss: 0.1798 - accuracy: 0.9232 - val_loss: 831965696.0000 - val_accuracy: 0.8248\n",
            "Epoch 43/100\n",
            "2089/2089 [==============================] - 8s 4ms/step - loss: 0.1791 - accuracy: 0.9234 - val_loss: 829653248.0000 - val_accuracy: 0.8251\n",
            "Epoch 44/100\n",
            "2089/2089 [==============================] - 7s 4ms/step - loss: 0.1782 - accuracy: 0.9236 - val_loss: 761415872.0000 - val_accuracy: 0.8260\n",
            "Epoch 45/100\n",
            "2089/2089 [==============================] - 7s 4ms/step - loss: 0.1782 - accuracy: 0.9241 - val_loss: 790896448.0000 - val_accuracy: 0.8256\n",
            "Epoch 46/100\n",
            "2089/2089 [==============================] - 8s 4ms/step - loss: 0.1756 - accuracy: 0.9253 - val_loss: 946674624.0000 - val_accuracy: 0.8256\n",
            "Epoch 47/100\n",
            "2089/2089 [==============================] - 8s 4ms/step - loss: 0.1754 - accuracy: 0.9253 - val_loss: 1377725440.0000 - val_accuracy: 0.8247\n",
            "Epoch 48/100\n",
            "2089/2089 [==============================] - 8s 4ms/step - loss: 0.1743 - accuracy: 0.9257 - val_loss: 1411461120.0000 - val_accuracy: 0.8244\n",
            "Epoch 49/100\n",
            "2089/2089 [==============================] - 8s 4ms/step - loss: 0.1754 - accuracy: 0.9251 - val_loss: 1366561792.0000 - val_accuracy: 0.8246\n",
            "Epoch 50/100\n",
            "2089/2089 [==============================] - 8s 4ms/step - loss: 0.1747 - accuracy: 0.9253 - val_loss: 1218927616.0000 - val_accuracy: 0.8247\n",
            "Epoch 51/100\n",
            "2089/2089 [==============================] - 8s 4ms/step - loss: 0.1728 - accuracy: 0.9264 - val_loss: 1778749696.0000 - val_accuracy: 0.8248\n",
            "Epoch 52/100\n",
            "2089/2089 [==============================] - 7s 4ms/step - loss: 0.1736 - accuracy: 0.9260 - val_loss: 2064648704.0000 - val_accuracy: 0.8245\n",
            "Epoch 53/100\n",
            "2089/2089 [==============================] - 8s 4ms/step - loss: 0.1733 - accuracy: 0.9266 - val_loss: 2001888000.0000 - val_accuracy: 0.8244\n",
            "Epoch 54/100\n",
            "2089/2089 [==============================] - 8s 4ms/step - loss: 0.1700 - accuracy: 0.9276 - val_loss: 2059076352.0000 - val_accuracy: 0.8244\n",
            "Epoch 55/100\n",
            "2089/2089 [==============================] - 8s 4ms/step - loss: 0.1715 - accuracy: 0.9268 - val_loss: 2310839808.0000 - val_accuracy: 0.8245\n",
            "Epoch 56/100\n",
            "2089/2089 [==============================] - 8s 4ms/step - loss: 0.1695 - accuracy: 0.9279 - val_loss: 2456970752.0000 - val_accuracy: 0.8241\n",
            "Epoch 57/100\n",
            "2089/2089 [==============================] - 7s 4ms/step - loss: 0.1714 - accuracy: 0.9268 - val_loss: 2599807232.0000 - val_accuracy: 0.8240\n",
            "Epoch 58/100\n",
            "2089/2089 [==============================] - 7s 4ms/step - loss: 0.1691 - accuracy: 0.9282 - val_loss: 2438857728.0000 - val_accuracy: 0.8241\n",
            "Epoch 59/100\n",
            "2089/2089 [==============================] - 8s 4ms/step - loss: 0.1667 - accuracy: 0.9286 - val_loss: 3113510656.0000 - val_accuracy: 0.8241\n",
            "Epoch 60/100\n",
            "2089/2089 [==============================] - 8s 4ms/step - loss: 0.1659 - accuracy: 0.9294 - val_loss: 2859881728.0000 - val_accuracy: 0.8241\n",
            "Epoch 61/100\n",
            "2089/2089 [==============================] - 8s 4ms/step - loss: 0.1643 - accuracy: 0.9301 - val_loss: 2910132224.0000 - val_accuracy: 0.8241\n",
            "Epoch 62/100\n",
            "2089/2089 [==============================] - 7s 4ms/step - loss: 0.1660 - accuracy: 0.9286 - val_loss: 2821173760.0000 - val_accuracy: 0.8241\n",
            "Epoch 63/100\n",
            "2089/2089 [==============================] - 7s 4ms/step - loss: 0.1648 - accuracy: 0.9296 - val_loss: 2722013184.0000 - val_accuracy: 0.8241\n",
            "Epoch 64/100\n",
            "2089/2089 [==============================] - 8s 4ms/step - loss: 0.1636 - accuracy: 0.9301 - val_loss: 2784458752.0000 - val_accuracy: 0.8241\n",
            "Epoch 65/100\n",
            "2089/2089 [==============================] - 7s 4ms/step - loss: 0.1671 - accuracy: 0.9289 - val_loss: 3192425984.0000 - val_accuracy: 0.8241\n",
            "Epoch 66/100\n",
            "2089/2089 [==============================] - 7s 4ms/step - loss: 0.1640 - accuracy: 0.9304 - val_loss: 3074036736.0000 - val_accuracy: 0.8241\n",
            "Epoch 67/100\n",
            "2089/2089 [==============================] - 8s 4ms/step - loss: 0.1652 - accuracy: 0.9296 - val_loss: 2942302720.0000 - val_accuracy: 0.8241\n",
            "Epoch 68/100\n",
            "2089/2089 [==============================] - 8s 4ms/step - loss: 0.1752 - accuracy: 0.9240 - val_loss: 3589564416.0000 - val_accuracy: 0.8241\n",
            "Epoch 69/100\n",
            "2089/2089 [==============================] - 7s 4ms/step - loss: 0.1672 - accuracy: 0.9284 - val_loss: 3898432000.0000 - val_accuracy: 0.8241\n",
            "Epoch 70/100\n",
            "2089/2089 [==============================] - 8s 4ms/step - loss: 0.1648 - accuracy: 0.9298 - val_loss: 4449961472.0000 - val_accuracy: 0.8241\n",
            "Epoch 71/100\n",
            "2089/2089 [==============================] - 8s 4ms/step - loss: 0.1614 - accuracy: 0.9310 - val_loss: 4869827072.0000 - val_accuracy: 0.8241\n",
            "Epoch 72/100\n",
            "2089/2089 [==============================] - 8s 4ms/step - loss: 0.1646 - accuracy: 0.9297 - val_loss: 4685191680.0000 - val_accuracy: 0.8241\n",
            "Epoch 73/100\n",
            "2089/2089 [==============================] - 9s 4ms/step - loss: 0.1651 - accuracy: 0.9293 - val_loss: 5736441344.0000 - val_accuracy: 0.8241\n",
            "Epoch 74/100\n",
            "2089/2089 [==============================] - 8s 4ms/step - loss: 0.1628 - accuracy: 0.9309 - val_loss: 5656674816.0000 - val_accuracy: 0.8241\n",
            "Epoch 75/100\n",
            "2089/2089 [==============================] - 8s 4ms/step - loss: 0.1614 - accuracy: 0.9314 - val_loss: 6272774656.0000 - val_accuracy: 0.8241\n",
            "Epoch 76/100\n",
            "2089/2089 [==============================] - 7s 4ms/step - loss: 0.1603 - accuracy: 0.9320 - val_loss: 6367356416.0000 - val_accuracy: 0.8241\n",
            "Epoch 77/100\n",
            "2089/2089 [==============================] - 7s 4ms/step - loss: 0.1602 - accuracy: 0.9320 - val_loss: 7098108928.0000 - val_accuracy: 0.8241\n",
            "Epoch 78/100\n",
            "2089/2089 [==============================] - 7s 4ms/step - loss: 0.1604 - accuracy: 0.9316 - val_loss: 6240028672.0000 - val_accuracy: 0.8241\n",
            "Epoch 79/100\n",
            "2089/2089 [==============================] - 8s 4ms/step - loss: 0.1588 - accuracy: 0.9325 - val_loss: 6646952448.0000 - val_accuracy: 0.8241\n",
            "Epoch 80/100\n",
            "2089/2089 [==============================] - 7s 4ms/step - loss: 0.1607 - accuracy: 0.9316 - val_loss: 7607601664.0000 - val_accuracy: 0.8241\n",
            "Epoch 81/100\n",
            "2089/2089 [==============================] - 8s 4ms/step - loss: 0.1625 - accuracy: 0.9310 - val_loss: 7343327232.0000 - val_accuracy: 0.8241\n",
            "Epoch 82/100\n",
            "2089/2089 [==============================] - 8s 4ms/step - loss: 0.1565 - accuracy: 0.9336 - val_loss: 7437521408.0000 - val_accuracy: 0.8241\n",
            "Epoch 83/100\n",
            "2089/2089 [==============================] - 7s 4ms/step - loss: 0.1569 - accuracy: 0.9331 - val_loss: 7675613696.0000 - val_accuracy: 0.8241\n",
            "Epoch 84/100\n",
            "2089/2089 [==============================] - 8s 4ms/step - loss: 0.1537 - accuracy: 0.9343 - val_loss: 7769859584.0000 - val_accuracy: 0.8241\n",
            "Epoch 85/100\n",
            "2089/2089 [==============================] - 7s 4ms/step - loss: 0.1589 - accuracy: 0.9322 - val_loss: 7566367232.0000 - val_accuracy: 0.8241\n",
            "Epoch 86/100\n",
            "2089/2089 [==============================] - 8s 4ms/step - loss: 0.1614 - accuracy: 0.9311 - val_loss: 8122164736.0000 - val_accuracy: 0.8241\n",
            "Epoch 87/100\n",
            "2089/2089 [==============================] - 9s 4ms/step - loss: 0.1615 - accuracy: 0.9314 - val_loss: 8104415232.0000 - val_accuracy: 0.8241\n",
            "Epoch 88/100\n",
            "2089/2089 [==============================] - 7s 4ms/step - loss: 0.1608 - accuracy: 0.9313 - val_loss: 8290576384.0000 - val_accuracy: 0.8241\n",
            "Epoch 89/100\n",
            "2089/2089 [==============================] - 7s 4ms/step - loss: 0.1583 - accuracy: 0.9324 - val_loss: 8186862080.0000 - val_accuracy: 0.8241\n",
            "Epoch 90/100\n",
            "2089/2089 [==============================] - 8s 4ms/step - loss: 0.1565 - accuracy: 0.9331 - val_loss: 7953843200.0000 - val_accuracy: 0.8241\n",
            "Epoch 91/100\n",
            "2089/2089 [==============================] - 7s 4ms/step - loss: 0.1533 - accuracy: 0.9346 - val_loss: 8651612160.0000 - val_accuracy: 0.8241\n",
            "Epoch 92/100\n",
            "2089/2089 [==============================] - 7s 4ms/step - loss: 0.1541 - accuracy: 0.9341 - val_loss: 8550726656.0000 - val_accuracy: 0.8239\n",
            "Epoch 93/100\n",
            "2089/2089 [==============================] - 8s 4ms/step - loss: 0.1537 - accuracy: 0.9347 - val_loss: 8739853312.0000 - val_accuracy: 0.8241\n",
            "Epoch 94/100\n",
            "2089/2089 [==============================] - 8s 4ms/step - loss: 0.1537 - accuracy: 0.9342 - val_loss: 9346352128.0000 - val_accuracy: 0.8241\n",
            "Epoch 95/100\n",
            "2089/2089 [==============================] - 8s 4ms/step - loss: 0.1547 - accuracy: 0.9339 - val_loss: 10180980736.0000 - val_accuracy: 0.8241\n",
            "Epoch 96/100\n",
            "2089/2089 [==============================] - 7s 4ms/step - loss: 0.1529 - accuracy: 0.9348 - val_loss: 9465758720.0000 - val_accuracy: 0.8241\n",
            "Epoch 97/100\n",
            "2089/2089 [==============================] - 8s 4ms/step - loss: 0.1563 - accuracy: 0.9333 - val_loss: 10493466624.0000 - val_accuracy: 0.8241\n",
            "Epoch 98/100\n",
            "2089/2089 [==============================] - 7s 4ms/step - loss: 0.1566 - accuracy: 0.9329 - val_loss: 10534307840.0000 - val_accuracy: 0.8241\n",
            "Epoch 99/100\n",
            "2089/2089 [==============================] - 8s 4ms/step - loss: 0.1545 - accuracy: 0.9342 - val_loss: 10155023360.0000 - val_accuracy: 0.8241\n",
            "Epoch 100/100\n",
            "2089/2089 [==============================] - 9s 4ms/step - loss: 0.1565 - accuracy: 0.9332 - val_loss: 9769552896.0000 - val_accuracy: 0.8241\n"
          ]
        },
        {
          "output_type": "execute_result",
          "data": {
            "text/plain": [
              "<keras.callbacks.History at 0x7fd2be30ac10>"
            ]
          },
          "metadata": {},
          "execution_count": 13
        }
      ]
    },
    {
      "cell_type": "code",
      "source": [
        "from sklearn import metrics\n",
        "def decode_sentiment(score):\n",
        "    return 1 if score>0.5 else 0"
      ],
      "metadata": {
        "id": "6syasKVyIgNK"
      },
      "execution_count": 14,
      "outputs": []
    },
    {
      "cell_type": "code",
      "source": [
        "scores = model.predict(X_test)\n",
        "y_pred = [decode_sentiment(score) for score in scores]\n",
        "accuracy=metrics.accuracy_score(y_test, y_pred)\n",
        "print(f'Accuracy of DNN_3 is {accuracy:.2f}%')"
      ],
      "metadata": {
        "id": "qxLendMXIgHc",
        "colab": {
          "base_uri": "https://localhost:8080/"
        },
        "outputId": "57d69410-7161-46ae-c6d6-1238fb858edd"
      },
      "execution_count": 15,
      "outputs": [
        {
          "output_type": "stream",
          "name": "stdout",
          "text": [
            "Accuracy of DNN_3 is 0.82%\n"
          ]
        }
      ]
    },
    {
      "cell_type": "code",
      "source": [
        "print(\"classification report:\")\n",
        "print(metrics.classification_report(y_test, y_pred))"
      ],
      "metadata": {
        "id": "RGx5LW4rIf2B",
        "colab": {
          "base_uri": "https://localhost:8080/"
        },
        "outputId": "06f449be-0326-4586-a1ba-8081f2f93adb"
      },
      "execution_count": 16,
      "outputs": [
        {
          "output_type": "stream",
          "name": "stdout",
          "text": [
            "classification report:\n",
            "              precision    recall  f1-score   support\n",
            "\n",
            "           0       0.64      0.00      0.00     47065\n",
            "           1       0.82      1.00      0.90    220235\n",
            "\n",
            "    accuracy                           0.82    267300\n",
            "   macro avg       0.73      0.50      0.45    267300\n",
            "weighted avg       0.79      0.82      0.75    267300\n",
            "\n"
          ]
        }
      ]
    },
    {
      "cell_type": "code",
      "source": [
        ""
      ],
      "metadata": {
        "id": "GGbkiT3KQgX9"
      },
      "execution_count": null,
      "outputs": []
    }
  ]
}