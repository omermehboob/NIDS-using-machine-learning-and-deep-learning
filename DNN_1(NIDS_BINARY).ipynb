{
  "nbformat": 4,
  "nbformat_minor": 0,
  "metadata": {
    "colab": {
      "name": "DNN (NIDS_BINARY).ipynb",
      "provenance": [],
      "mount_file_id": "12JDBEo_aDXtC78AYVnmcNoq-8HOECcAB",
      "authorship_tag": "ABX9TyPtwMfUdAYskatgpNPBTxim",
      "include_colab_link": true
    },
    "kernelspec": {
      "name": "python3",
      "display_name": "Python 3"
    },
    "language_info": {
      "name": "python"
    },
    "accelerator": "GPU",
    "gpuClass": "standard"
  },
  "cells": [
    {
      "cell_type": "markdown",
      "metadata": {
        "id": "view-in-github",
        "colab_type": "text"
      },
      "source": [
        "<a href=\"https://colab.research.google.com/github/omermehboob/NIDS-using-machine-learning-and-deep-learning/blob/main/DNN_1(NIDS_BINARY).ipynb\" target=\"_parent\"><img src=\"https://colab.research.google.com/assets/colab-badge.svg\" alt=\"Open In Colab\"/></a>"
      ]
    },
    {
      "cell_type": "markdown",
      "source": [
        ""
      ],
      "metadata": {
        "id": "XGTjj5KpJhqE"
      }
    },
    {
      "cell_type": "code",
      "source": [
        "from __future__ import print_function\n",
        "from sklearn.model_selection import train_test_split\n",
        "import pandas as pd\n",
        "import numpy as np\n",
        "np.random.seed(1337)  # for reproducibility\n",
        "from keras.preprocessing import sequence\n",
        "from keras.utils import np_utils\n",
        "from keras.models import Sequential\n",
        "from keras.layers import Dense, Dropout, Activation, Embedding\n",
        "from keras.utils.np_utils import to_categorical\n",
        "from sklearn.metrics import (precision_score, recall_score,f1_score, accuracy_score,mean_squared_error,mean_absolute_error)\n",
        "from sklearn import metrics\n",
        "from sklearn.preprocessing import Normalizer\n",
        "import h5py\n",
        "from keras import callbacks\n",
        "from keras.callbacks import ModelCheckpoint, EarlyStopping, ReduceLROnPlateau, CSVLogger"
      ],
      "metadata": {
        "id": "x6nBeqvIJcxf"
      },
      "execution_count": 3,
      "outputs": []
    },
    {
      "cell_type": "code",
      "source": [
        "df = pd.read_csv('/content/drive/MyDrive/Refined_data_set(label_encoding_18_features).csv')"
      ],
      "metadata": {
        "id": "ToyjNtbpJgwu"
      },
      "execution_count": 4,
      "outputs": []
    },
    {
      "cell_type": "code",
      "source": [
        "df.shape"
      ],
      "metadata": {
        "colab": {
          "base_uri": "https://localhost:8080/"
        },
        "id": "cJnDNjuqKXs4",
        "outputId": "848caf49-328c-4ef9-80bf-806e6372c338"
      },
      "execution_count": 5,
      "outputs": [
        {
          "output_type": "execute_result",
          "data": {
            "text/plain": [
              "(1336498, 20)"
            ]
          },
          "metadata": {},
          "execution_count": 5
        }
      ]
    },
    {
      "cell_type": "code",
      "source": [
        "df.drop([\"Unnamed:0\"], axis=1, inplace=True)\n"
      ],
      "metadata": {
        "colab": {
          "base_uri": "https://localhost:8080/",
          "height": 311
        },
        "id": "httcfJriKXqc",
        "outputId": "5e1315d7-64f9-4240-e367-e138cc0799db"
      },
      "execution_count": 6,
      "outputs": [
        {
          "output_type": "error",
          "ename": "KeyError",
          "evalue": "ignored",
          "traceback": [
            "\u001b[0;31m---------------------------------------------------------------------------\u001b[0m",
            "\u001b[0;31mKeyError\u001b[0m                                  Traceback (most recent call last)",
            "\u001b[0;32m<ipython-input-6-4c684683aedf>\u001b[0m in \u001b[0;36m<module>\u001b[0;34m()\u001b[0m\n\u001b[0;32m----> 1\u001b[0;31m \u001b[0mdf\u001b[0m\u001b[0;34m.\u001b[0m\u001b[0mdrop\u001b[0m\u001b[0;34m(\u001b[0m\u001b[0;34m[\u001b[0m\u001b[0;34m\"Unnamed:0\"\u001b[0m\u001b[0;34m]\u001b[0m\u001b[0;34m,\u001b[0m \u001b[0maxis\u001b[0m\u001b[0;34m=\u001b[0m\u001b[0;36m1\u001b[0m\u001b[0;34m,\u001b[0m \u001b[0minplace\u001b[0m\u001b[0;34m=\u001b[0m\u001b[0;32mTrue\u001b[0m\u001b[0;34m)\u001b[0m\u001b[0;34m\u001b[0m\u001b[0;34m\u001b[0m\u001b[0m\n\u001b[0m",
            "\u001b[0;32m/usr/local/lib/python3.7/dist-packages/pandas/util/_decorators.py\u001b[0m in \u001b[0;36mwrapper\u001b[0;34m(*args, **kwargs)\u001b[0m\n\u001b[1;32m    309\u001b[0m                     \u001b[0mstacklevel\u001b[0m\u001b[0;34m=\u001b[0m\u001b[0mstacklevel\u001b[0m\u001b[0;34m,\u001b[0m\u001b[0;34m\u001b[0m\u001b[0;34m\u001b[0m\u001b[0m\n\u001b[1;32m    310\u001b[0m                 )\n\u001b[0;32m--> 311\u001b[0;31m             \u001b[0;32mreturn\u001b[0m \u001b[0mfunc\u001b[0m\u001b[0;34m(\u001b[0m\u001b[0;34m*\u001b[0m\u001b[0margs\u001b[0m\u001b[0;34m,\u001b[0m \u001b[0;34m**\u001b[0m\u001b[0mkwargs\u001b[0m\u001b[0;34m)\u001b[0m\u001b[0;34m\u001b[0m\u001b[0;34m\u001b[0m\u001b[0m\n\u001b[0m\u001b[1;32m    312\u001b[0m \u001b[0;34m\u001b[0m\u001b[0m\n\u001b[1;32m    313\u001b[0m         \u001b[0;32mreturn\u001b[0m \u001b[0mwrapper\u001b[0m\u001b[0;34m\u001b[0m\u001b[0;34m\u001b[0m\u001b[0m\n",
            "\u001b[0;32m/usr/local/lib/python3.7/dist-packages/pandas/core/frame.py\u001b[0m in \u001b[0;36mdrop\u001b[0;34m(self, labels, axis, index, columns, level, inplace, errors)\u001b[0m\n\u001b[1;32m   4911\u001b[0m             \u001b[0mlevel\u001b[0m\u001b[0;34m=\u001b[0m\u001b[0mlevel\u001b[0m\u001b[0;34m,\u001b[0m\u001b[0;34m\u001b[0m\u001b[0;34m\u001b[0m\u001b[0m\n\u001b[1;32m   4912\u001b[0m             \u001b[0minplace\u001b[0m\u001b[0;34m=\u001b[0m\u001b[0minplace\u001b[0m\u001b[0;34m,\u001b[0m\u001b[0;34m\u001b[0m\u001b[0;34m\u001b[0m\u001b[0m\n\u001b[0;32m-> 4913\u001b[0;31m             \u001b[0merrors\u001b[0m\u001b[0;34m=\u001b[0m\u001b[0merrors\u001b[0m\u001b[0;34m,\u001b[0m\u001b[0;34m\u001b[0m\u001b[0;34m\u001b[0m\u001b[0m\n\u001b[0m\u001b[1;32m   4914\u001b[0m         )\n\u001b[1;32m   4915\u001b[0m \u001b[0;34m\u001b[0m\u001b[0m\n",
            "\u001b[0;32m/usr/local/lib/python3.7/dist-packages/pandas/core/generic.py\u001b[0m in \u001b[0;36mdrop\u001b[0;34m(self, labels, axis, index, columns, level, inplace, errors)\u001b[0m\n\u001b[1;32m   4148\u001b[0m         \u001b[0;32mfor\u001b[0m \u001b[0maxis\u001b[0m\u001b[0;34m,\u001b[0m \u001b[0mlabels\u001b[0m \u001b[0;32min\u001b[0m \u001b[0maxes\u001b[0m\u001b[0;34m.\u001b[0m\u001b[0mitems\u001b[0m\u001b[0;34m(\u001b[0m\u001b[0;34m)\u001b[0m\u001b[0;34m:\u001b[0m\u001b[0;34m\u001b[0m\u001b[0;34m\u001b[0m\u001b[0m\n\u001b[1;32m   4149\u001b[0m             \u001b[0;32mif\u001b[0m \u001b[0mlabels\u001b[0m \u001b[0;32mis\u001b[0m \u001b[0;32mnot\u001b[0m \u001b[0;32mNone\u001b[0m\u001b[0;34m:\u001b[0m\u001b[0;34m\u001b[0m\u001b[0;34m\u001b[0m\u001b[0m\n\u001b[0;32m-> 4150\u001b[0;31m                 \u001b[0mobj\u001b[0m \u001b[0;34m=\u001b[0m \u001b[0mobj\u001b[0m\u001b[0;34m.\u001b[0m\u001b[0m_drop_axis\u001b[0m\u001b[0;34m(\u001b[0m\u001b[0mlabels\u001b[0m\u001b[0;34m,\u001b[0m \u001b[0maxis\u001b[0m\u001b[0;34m,\u001b[0m \u001b[0mlevel\u001b[0m\u001b[0;34m=\u001b[0m\u001b[0mlevel\u001b[0m\u001b[0;34m,\u001b[0m \u001b[0merrors\u001b[0m\u001b[0;34m=\u001b[0m\u001b[0merrors\u001b[0m\u001b[0;34m)\u001b[0m\u001b[0;34m\u001b[0m\u001b[0;34m\u001b[0m\u001b[0m\n\u001b[0m\u001b[1;32m   4151\u001b[0m \u001b[0;34m\u001b[0m\u001b[0m\n\u001b[1;32m   4152\u001b[0m         \u001b[0;32mif\u001b[0m \u001b[0minplace\u001b[0m\u001b[0;34m:\u001b[0m\u001b[0;34m\u001b[0m\u001b[0;34m\u001b[0m\u001b[0m\n",
            "\u001b[0;32m/usr/local/lib/python3.7/dist-packages/pandas/core/generic.py\u001b[0m in \u001b[0;36m_drop_axis\u001b[0;34m(self, labels, axis, level, errors)\u001b[0m\n\u001b[1;32m   4183\u001b[0m                 \u001b[0mnew_axis\u001b[0m \u001b[0;34m=\u001b[0m \u001b[0maxis\u001b[0m\u001b[0;34m.\u001b[0m\u001b[0mdrop\u001b[0m\u001b[0;34m(\u001b[0m\u001b[0mlabels\u001b[0m\u001b[0;34m,\u001b[0m \u001b[0mlevel\u001b[0m\u001b[0;34m=\u001b[0m\u001b[0mlevel\u001b[0m\u001b[0;34m,\u001b[0m \u001b[0merrors\u001b[0m\u001b[0;34m=\u001b[0m\u001b[0merrors\u001b[0m\u001b[0;34m)\u001b[0m\u001b[0;34m\u001b[0m\u001b[0;34m\u001b[0m\u001b[0m\n\u001b[1;32m   4184\u001b[0m             \u001b[0;32melse\u001b[0m\u001b[0;34m:\u001b[0m\u001b[0;34m\u001b[0m\u001b[0;34m\u001b[0m\u001b[0m\n\u001b[0;32m-> 4185\u001b[0;31m                 \u001b[0mnew_axis\u001b[0m \u001b[0;34m=\u001b[0m \u001b[0maxis\u001b[0m\u001b[0;34m.\u001b[0m\u001b[0mdrop\u001b[0m\u001b[0;34m(\u001b[0m\u001b[0mlabels\u001b[0m\u001b[0;34m,\u001b[0m \u001b[0merrors\u001b[0m\u001b[0;34m=\u001b[0m\u001b[0merrors\u001b[0m\u001b[0;34m)\u001b[0m\u001b[0;34m\u001b[0m\u001b[0;34m\u001b[0m\u001b[0m\n\u001b[0m\u001b[1;32m   4186\u001b[0m             \u001b[0mresult\u001b[0m \u001b[0;34m=\u001b[0m \u001b[0mself\u001b[0m\u001b[0;34m.\u001b[0m\u001b[0mreindex\u001b[0m\u001b[0;34m(\u001b[0m\u001b[0;34m**\u001b[0m\u001b[0;34m{\u001b[0m\u001b[0maxis_name\u001b[0m\u001b[0;34m:\u001b[0m \u001b[0mnew_axis\u001b[0m\u001b[0;34m}\u001b[0m\u001b[0;34m)\u001b[0m\u001b[0;34m\u001b[0m\u001b[0;34m\u001b[0m\u001b[0m\n\u001b[1;32m   4187\u001b[0m \u001b[0;34m\u001b[0m\u001b[0m\n",
            "\u001b[0;32m/usr/local/lib/python3.7/dist-packages/pandas/core/indexes/base.py\u001b[0m in \u001b[0;36mdrop\u001b[0;34m(self, labels, errors)\u001b[0m\n\u001b[1;32m   6015\u001b[0m         \u001b[0;32mif\u001b[0m \u001b[0mmask\u001b[0m\u001b[0;34m.\u001b[0m\u001b[0many\u001b[0m\u001b[0;34m(\u001b[0m\u001b[0;34m)\u001b[0m\u001b[0;34m:\u001b[0m\u001b[0;34m\u001b[0m\u001b[0;34m\u001b[0m\u001b[0m\n\u001b[1;32m   6016\u001b[0m             \u001b[0;32mif\u001b[0m \u001b[0merrors\u001b[0m \u001b[0;34m!=\u001b[0m \u001b[0;34m\"ignore\"\u001b[0m\u001b[0;34m:\u001b[0m\u001b[0;34m\u001b[0m\u001b[0;34m\u001b[0m\u001b[0m\n\u001b[0;32m-> 6017\u001b[0;31m                 \u001b[0;32mraise\u001b[0m \u001b[0mKeyError\u001b[0m\u001b[0;34m(\u001b[0m\u001b[0;34mf\"{labels[mask]} not found in axis\"\u001b[0m\u001b[0;34m)\u001b[0m\u001b[0;34m\u001b[0m\u001b[0;34m\u001b[0m\u001b[0m\n\u001b[0m\u001b[1;32m   6018\u001b[0m             \u001b[0mindexer\u001b[0m \u001b[0;34m=\u001b[0m \u001b[0mindexer\u001b[0m\u001b[0;34m[\u001b[0m\u001b[0;34m~\u001b[0m\u001b[0mmask\u001b[0m\u001b[0;34m]\u001b[0m\u001b[0;34m\u001b[0m\u001b[0;34m\u001b[0m\u001b[0m\n\u001b[1;32m   6019\u001b[0m         \u001b[0;32mreturn\u001b[0m \u001b[0mself\u001b[0m\u001b[0;34m.\u001b[0m\u001b[0mdelete\u001b[0m\u001b[0;34m(\u001b[0m\u001b[0mindexer\u001b[0m\u001b[0;34m)\u001b[0m\u001b[0;34m\u001b[0m\u001b[0;34m\u001b[0m\u001b[0m\n",
            "\u001b[0;31mKeyError\u001b[0m: \"['Unnamed:0'] not found in axis\""
          ]
        }
      ]
    },
    {
      "cell_type": "code",
      "source": [
        "df.head()"
      ],
      "metadata": {
        "colab": {
          "base_uri": "https://localhost:8080/",
          "height": 322
        },
        "id": "fRYQYqC0KXmp",
        "outputId": "3bf5ec9f-befa-450c-881b-539d02597748"
      },
      "execution_count": 8,
      "outputs": [
        {
          "output_type": "execute_result",
          "data": {
            "text/plain": [
              "   Unnamed: 0  Bwd Packet Length Max  Bwd Packet Length Mean  \\\n",
              "0           0                  128.0              128.000000   \n",
              "1           1                    0.0                0.000000   \n",
              "2           2                    0.0                0.000000   \n",
              "3           3                   48.0               48.000000   \n",
              "4           4                 1486.0              186.136364   \n",
              "\n",
              "   Bwd Packet Length Std  Flow Bytes/s  Flow Duration  Flow IAT Max  \\\n",
              "0                0.00000          2046         193460      164110.0   \n",
              "1                0.00000             7        4016867     4011885.0   \n",
              "2                0.00000             2        5318063     5302748.0   \n",
              "3                0.00000       1081081            148          99.0   \n",
              "4              426.14309            57      117320451    10100000.0   \n",
              "\n",
              "   Flow IAT Mean  Flow IAT Min  Flow IAT Std  Fwd IAT Total  \\\n",
              "0   3.869200e+04           3.0  7.124800e+04        29304.0   \n",
              "1   1.004217e+06          10.0  2.005113e+06      4016867.0   \n",
              "2   1.772688e+06          97.0  3.057131e+06      5318063.0   \n",
              "3   4.933333e+01           1.0  4.901360e+01           48.0   \n",
              "4   2.550445e+06          39.0  4.191832e+06    117000000.0   \n",
              "\n",
              "   Fwd Packet Length Max  Fwd Packet Length Mean  Fwd Packet Length Min  \\\n",
              "0                   35.0                   35.00                   35.0   \n",
              "1                    6.0                    6.00                    6.0   \n",
              "2                    6.0                    4.00                    0.0   \n",
              "3                   32.0                   32.00                   32.0   \n",
              "4                  453.0                  107.64                    0.0   \n",
              "\n",
              "   Fwd Packet Length Std  Total Backward Packets  Total Fwd Packets  \\\n",
              "0               0.000000                       2                  4   \n",
              "1               0.000000                       0                  5   \n",
              "2               3.464102                       1                  3   \n",
              "3               0.000000                       2                  2   \n",
              "4             181.667939                      22                 25   \n",
              "\n",
              "   Total Length of Bwd Packets  Total Length of Fwd Packets  Label  \n",
              "0                        256.0                        140.0      1  \n",
              "1                          0.0                         30.0      0  \n",
              "2                          0.0                         12.0      1  \n",
              "3                         96.0                         64.0      1  \n",
              "4                       4095.0                       2691.0      1  "
            ],
            "text/html": [
              "\n",
              "  <div id=\"df-ed32a699-02bd-4e71-b285-3ca3622218a0\">\n",
              "    <div class=\"colab-df-container\">\n",
              "      <div>\n",
              "<style scoped>\n",
              "    .dataframe tbody tr th:only-of-type {\n",
              "        vertical-align: middle;\n",
              "    }\n",
              "\n",
              "    .dataframe tbody tr th {\n",
              "        vertical-align: top;\n",
              "    }\n",
              "\n",
              "    .dataframe thead th {\n",
              "        text-align: right;\n",
              "    }\n",
              "</style>\n",
              "<table border=\"1\" class=\"dataframe\">\n",
              "  <thead>\n",
              "    <tr style=\"text-align: right;\">\n",
              "      <th></th>\n",
              "      <th>Unnamed: 0</th>\n",
              "      <th>Bwd Packet Length Max</th>\n",
              "      <th>Bwd Packet Length Mean</th>\n",
              "      <th>Bwd Packet Length Std</th>\n",
              "      <th>Flow Bytes/s</th>\n",
              "      <th>Flow Duration</th>\n",
              "      <th>Flow IAT Max</th>\n",
              "      <th>Flow IAT Mean</th>\n",
              "      <th>Flow IAT Min</th>\n",
              "      <th>Flow IAT Std</th>\n",
              "      <th>Fwd IAT Total</th>\n",
              "      <th>Fwd Packet Length Max</th>\n",
              "      <th>Fwd Packet Length Mean</th>\n",
              "      <th>Fwd Packet Length Min</th>\n",
              "      <th>Fwd Packet Length Std</th>\n",
              "      <th>Total Backward Packets</th>\n",
              "      <th>Total Fwd Packets</th>\n",
              "      <th>Total Length of Bwd Packets</th>\n",
              "      <th>Total Length of Fwd Packets</th>\n",
              "      <th>Label</th>\n",
              "    </tr>\n",
              "  </thead>\n",
              "  <tbody>\n",
              "    <tr>\n",
              "      <th>0</th>\n",
              "      <td>0</td>\n",
              "      <td>128.0</td>\n",
              "      <td>128.000000</td>\n",
              "      <td>0.00000</td>\n",
              "      <td>2046</td>\n",
              "      <td>193460</td>\n",
              "      <td>164110.0</td>\n",
              "      <td>3.869200e+04</td>\n",
              "      <td>3.0</td>\n",
              "      <td>7.124800e+04</td>\n",
              "      <td>29304.0</td>\n",
              "      <td>35.0</td>\n",
              "      <td>35.00</td>\n",
              "      <td>35.0</td>\n",
              "      <td>0.000000</td>\n",
              "      <td>2</td>\n",
              "      <td>4</td>\n",
              "      <td>256.0</td>\n",
              "      <td>140.0</td>\n",
              "      <td>1</td>\n",
              "    </tr>\n",
              "    <tr>\n",
              "      <th>1</th>\n",
              "      <td>1</td>\n",
              "      <td>0.0</td>\n",
              "      <td>0.000000</td>\n",
              "      <td>0.00000</td>\n",
              "      <td>7</td>\n",
              "      <td>4016867</td>\n",
              "      <td>4011885.0</td>\n",
              "      <td>1.004217e+06</td>\n",
              "      <td>10.0</td>\n",
              "      <td>2.005113e+06</td>\n",
              "      <td>4016867.0</td>\n",
              "      <td>6.0</td>\n",
              "      <td>6.00</td>\n",
              "      <td>6.0</td>\n",
              "      <td>0.000000</td>\n",
              "      <td>0</td>\n",
              "      <td>5</td>\n",
              "      <td>0.0</td>\n",
              "      <td>30.0</td>\n",
              "      <td>0</td>\n",
              "    </tr>\n",
              "    <tr>\n",
              "      <th>2</th>\n",
              "      <td>2</td>\n",
              "      <td>0.0</td>\n",
              "      <td>0.000000</td>\n",
              "      <td>0.00000</td>\n",
              "      <td>2</td>\n",
              "      <td>5318063</td>\n",
              "      <td>5302748.0</td>\n",
              "      <td>1.772688e+06</td>\n",
              "      <td>97.0</td>\n",
              "      <td>3.057131e+06</td>\n",
              "      <td>5318063.0</td>\n",
              "      <td>6.0</td>\n",
              "      <td>4.00</td>\n",
              "      <td>0.0</td>\n",
              "      <td>3.464102</td>\n",
              "      <td>1</td>\n",
              "      <td>3</td>\n",
              "      <td>0.0</td>\n",
              "      <td>12.0</td>\n",
              "      <td>1</td>\n",
              "    </tr>\n",
              "    <tr>\n",
              "      <th>3</th>\n",
              "      <td>3</td>\n",
              "      <td>48.0</td>\n",
              "      <td>48.000000</td>\n",
              "      <td>0.00000</td>\n",
              "      <td>1081081</td>\n",
              "      <td>148</td>\n",
              "      <td>99.0</td>\n",
              "      <td>4.933333e+01</td>\n",
              "      <td>1.0</td>\n",
              "      <td>4.901360e+01</td>\n",
              "      <td>48.0</td>\n",
              "      <td>32.0</td>\n",
              "      <td>32.00</td>\n",
              "      <td>32.0</td>\n",
              "      <td>0.000000</td>\n",
              "      <td>2</td>\n",
              "      <td>2</td>\n",
              "      <td>96.0</td>\n",
              "      <td>64.0</td>\n",
              "      <td>1</td>\n",
              "    </tr>\n",
              "    <tr>\n",
              "      <th>4</th>\n",
              "      <td>4</td>\n",
              "      <td>1486.0</td>\n",
              "      <td>186.136364</td>\n",
              "      <td>426.14309</td>\n",
              "      <td>57</td>\n",
              "      <td>117320451</td>\n",
              "      <td>10100000.0</td>\n",
              "      <td>2.550445e+06</td>\n",
              "      <td>39.0</td>\n",
              "      <td>4.191832e+06</td>\n",
              "      <td>117000000.0</td>\n",
              "      <td>453.0</td>\n",
              "      <td>107.64</td>\n",
              "      <td>0.0</td>\n",
              "      <td>181.667939</td>\n",
              "      <td>22</td>\n",
              "      <td>25</td>\n",
              "      <td>4095.0</td>\n",
              "      <td>2691.0</td>\n",
              "      <td>1</td>\n",
              "    </tr>\n",
              "  </tbody>\n",
              "</table>\n",
              "</div>\n",
              "      <button class=\"colab-df-convert\" onclick=\"convertToInteractive('df-ed32a699-02bd-4e71-b285-3ca3622218a0')\"\n",
              "              title=\"Convert this dataframe to an interactive table.\"\n",
              "              style=\"display:none;\">\n",
              "        \n",
              "  <svg xmlns=\"http://www.w3.org/2000/svg\" height=\"24px\"viewBox=\"0 0 24 24\"\n",
              "       width=\"24px\">\n",
              "    <path d=\"M0 0h24v24H0V0z\" fill=\"none\"/>\n",
              "    <path d=\"M18.56 5.44l.94 2.06.94-2.06 2.06-.94-2.06-.94-.94-2.06-.94 2.06-2.06.94zm-11 1L8.5 8.5l.94-2.06 2.06-.94-2.06-.94L8.5 2.5l-.94 2.06-2.06.94zm10 10l.94 2.06.94-2.06 2.06-.94-2.06-.94-.94-2.06-.94 2.06-2.06.94z\"/><path d=\"M17.41 7.96l-1.37-1.37c-.4-.4-.92-.59-1.43-.59-.52 0-1.04.2-1.43.59L10.3 9.45l-7.72 7.72c-.78.78-.78 2.05 0 2.83L4 21.41c.39.39.9.59 1.41.59.51 0 1.02-.2 1.41-.59l7.78-7.78 2.81-2.81c.8-.78.8-2.07 0-2.86zM5.41 20L4 18.59l7.72-7.72 1.47 1.35L5.41 20z\"/>\n",
              "  </svg>\n",
              "      </button>\n",
              "      \n",
              "  <style>\n",
              "    .colab-df-container {\n",
              "      display:flex;\n",
              "      flex-wrap:wrap;\n",
              "      gap: 12px;\n",
              "    }\n",
              "\n",
              "    .colab-df-convert {\n",
              "      background-color: #E8F0FE;\n",
              "      border: none;\n",
              "      border-radius: 50%;\n",
              "      cursor: pointer;\n",
              "      display: none;\n",
              "      fill: #1967D2;\n",
              "      height: 32px;\n",
              "      padding: 0 0 0 0;\n",
              "      width: 32px;\n",
              "    }\n",
              "\n",
              "    .colab-df-convert:hover {\n",
              "      background-color: #E2EBFA;\n",
              "      box-shadow: 0px 1px 2px rgba(60, 64, 67, 0.3), 0px 1px 3px 1px rgba(60, 64, 67, 0.15);\n",
              "      fill: #174EA6;\n",
              "    }\n",
              "\n",
              "    [theme=dark] .colab-df-convert {\n",
              "      background-color: #3B4455;\n",
              "      fill: #D2E3FC;\n",
              "    }\n",
              "\n",
              "    [theme=dark] .colab-df-convert:hover {\n",
              "      background-color: #434B5C;\n",
              "      box-shadow: 0px 1px 3px 1px rgba(0, 0, 0, 0.15);\n",
              "      filter: drop-shadow(0px 1px 2px rgba(0, 0, 0, 0.3));\n",
              "      fill: #FFFFFF;\n",
              "    }\n",
              "  </style>\n",
              "\n",
              "      <script>\n",
              "        const buttonEl =\n",
              "          document.querySelector('#df-ed32a699-02bd-4e71-b285-3ca3622218a0 button.colab-df-convert');\n",
              "        buttonEl.style.display =\n",
              "          google.colab.kernel.accessAllowed ? 'block' : 'none';\n",
              "\n",
              "        async function convertToInteractive(key) {\n",
              "          const element = document.querySelector('#df-ed32a699-02bd-4e71-b285-3ca3622218a0');\n",
              "          const dataTable =\n",
              "            await google.colab.kernel.invokeFunction('convertToInteractive',\n",
              "                                                     [key], {});\n",
              "          if (!dataTable) return;\n",
              "\n",
              "          const docLinkHtml = 'Like what you see? Visit the ' +\n",
              "            '<a target=\"_blank\" href=https://colab.research.google.com/notebooks/data_table.ipynb>data table notebook</a>'\n",
              "            + ' to learn more about interactive tables.';\n",
              "          element.innerHTML = '';\n",
              "          dataTable['output_type'] = 'display_data';\n",
              "          await google.colab.output.renderOutput(dataTable, element);\n",
              "          const docLink = document.createElement('div');\n",
              "          docLink.innerHTML = docLinkHtml;\n",
              "          element.appendChild(docLink);\n",
              "        }\n",
              "      </script>\n",
              "    </div>\n",
              "  </div>\n",
              "  "
            ]
          },
          "metadata": {},
          "execution_count": 8
        }
      ]
    },
    {
      "cell_type": "code",
      "source": [
        "newdf = pd.read_csv('/content/drive/MyDrive/Refined_data_set(label_encoding_18_features).csv')"
      ],
      "metadata": {
        "id": "v3KQo59IKXh3"
      },
      "execution_count": 9,
      "outputs": []
    },
    {
      "cell_type": "code",
      "source": [
        "newdf.shape"
      ],
      "metadata": {
        "colab": {
          "base_uri": "https://localhost:8080/"
        },
        "id": "NfTnMtqzMCrE",
        "outputId": "fa3d1452-a733-4c7f-b412-afe780f7ee27"
      },
      "execution_count": 10,
      "outputs": [
        {
          "output_type": "execute_result",
          "data": {
            "text/plain": [
              "(1336498, 20)"
            ]
          },
          "metadata": {},
          "execution_count": 10
        }
      ]
    },
    {
      "cell_type": "code",
      "source": [
        "X=newdf[[\"Bwd Packet Length Max\",\"Bwd Packet Length Mean\",\"Bwd Packet Length Std\",\"Flow Bytes/s\",\n",
        "\"Flow Duration\",\"Flow IAT Max\",\"Flow IAT Mean\",\"Flow IAT Min\",\"Flow IAT Std\",\"Fwd IAT Total\",\"Fwd Packet Length Max\",\n",
        "\"Fwd Packet Length Mean\",\"Fwd Packet Length Min\",\"Fwd Packet Length Std\",\"Total Backward Packets\",\"Total Fwd Packets\",\n",
        "\"Total Length of Bwd Packets\",\"Total Length of Fwd Packets\"]]\n",
        "y=newdf[[\"Label\"]]"
      ],
      "metadata": {
        "id": "VKPlZCc8MGEN"
      },
      "execution_count": 11,
      "outputs": []
    },
    {
      "cell_type": "code",
      "source": [
        "print(X.shape)\n",
        "print(y.shape)"
      ],
      "metadata": {
        "colab": {
          "base_uri": "https://localhost:8080/"
        },
        "id": "dEb_68m6MCno",
        "outputId": "81f7c328-7518-4789-909e-557f2054f92d"
      },
      "execution_count": 12,
      "outputs": [
        {
          "output_type": "stream",
          "name": "stdout",
          "text": [
            "(1336498, 18)\n",
            "(1336498, 1)\n"
          ]
        }
      ]
    },
    {
      "cell_type": "code",
      "source": [
        ""
      ],
      "metadata": {
        "id": "AhZ-S_BlNKcv"
      },
      "execution_count": 12,
      "outputs": []
    },
    {
      "cell_type": "code",
      "source": [
        "X_train, X_test, y_train, y_test = train_test_split(X, y, test_size = 0.20)\n",
        "\n"
      ],
      "metadata": {
        "id": "YeuthgGBKXbG"
      },
      "execution_count": 13,
      "outputs": []
    },
    {
      "cell_type": "code",
      "source": [
        "scaler = Normalizer().fit(X_train)\n",
        "X_train = scaler.transform(X_train)\n",
        "\n",
        "scaler = Normalizer().fit(y_train)\n",
        "y_train = scaler.transform(y_train)\n"
      ],
      "metadata": {
        "id": "txQEjXSYMlj1"
      },
      "execution_count": 14,
      "outputs": []
    },
    {
      "cell_type": "code",
      "source": [
        "model = Sequential()\n",
        "model.add(Dense(1024,input_dim=18,activation='relu'))  \n",
        "model.add(Dropout(0.10))\n",
        "model.add(Dense(768,activation='relu'))  \n",
        "model.add(Dropout(0.01))\n",
        "model.add(Dense(512,activation='relu'))  \n",
        "model.add(Dropout(0.01))\n",
        "model.add(Dense(1,activation='sigmoid'))\n",
        "\n",
        "model.summary()"
      ],
      "metadata": {
        "colab": {
          "base_uri": "https://localhost:8080/"
        },
        "id": "RKSrH6D7Mlef",
        "outputId": "3647257a-7edf-4404-f5c3-534cd4b9d50c"
      },
      "execution_count": 19,
      "outputs": [
        {
          "output_type": "stream",
          "name": "stdout",
          "text": [
            "Model: \"sequential_1\"\n",
            "_________________________________________________________________\n",
            " Layer (type)                Output Shape              Param #   \n",
            "=================================================================\n",
            " dense_4 (Dense)             (None, 1024)              19456     \n",
            "                                                                 \n",
            " dropout_3 (Dropout)         (None, 1024)              0         \n",
            "                                                                 \n",
            " dense_5 (Dense)             (None, 768)               787200    \n",
            "                                                                 \n",
            " dropout_4 (Dropout)         (None, 768)               0         \n",
            "                                                                 \n",
            " dense_6 (Dense)             (None, 512)               393728    \n",
            "                                                                 \n",
            " dropout_5 (Dropout)         (None, 512)               0         \n",
            "                                                                 \n",
            " dense_7 (Dense)             (None, 1)                 513       \n",
            "                                                                 \n",
            "=================================================================\n",
            "Total params: 1,200,897\n",
            "Trainable params: 1,200,897\n",
            "Non-trainable params: 0\n",
            "_________________________________________________________________\n"
          ]
        }
      ]
    },
    {
      "cell_type": "code",
      "source": [
        "model.compile(loss='binary_crossentropy',optimizer='adam',metrics=['accuracy'])\n",
        "model.fit(X_train, y_train, validation_data=(X_test, y_test), batch_size=512, epochs=200)"
      ],
      "metadata": {
        "colab": {
          "base_uri": "https://localhost:8080/"
        },
        "id": "Lkl-SEn_MlUB",
        "outputId": "c18553ec-b2d7-418e-cc9a-180c431ffaea"
      },
      "execution_count": 20,
      "outputs": [
        {
          "output_type": "stream",
          "name": "stdout",
          "text": [
            "Epoch 1/100\n",
            "2089/2089 [==============================] - 12s 4ms/step - loss: 0.3148 - accuracy: 0.8739 - val_loss: 21275696.0000 - val_accuracy: 0.8354\n",
            "Epoch 2/100\n",
            "2089/2089 [==============================] - 9s 4ms/step - loss: 0.2545 - accuracy: 0.8944 - val_loss: 4755916.5000 - val_accuracy: 0.8463\n",
            "Epoch 3/100\n",
            "2089/2089 [==============================] - 8s 4ms/step - loss: 0.2035 - accuracy: 0.9199 - val_loss: 2789200.5000 - val_accuracy: 0.6678\n",
            "Epoch 4/100\n",
            "2089/2089 [==============================] - 10s 5ms/step - loss: 0.1810 - accuracy: 0.9293 - val_loss: 1824327.5000 - val_accuracy: 0.6553\n",
            "Epoch 5/100\n",
            "2089/2089 [==============================] - 9s 4ms/step - loss: 0.1728 - accuracy: 0.9317 - val_loss: 1535309.7500 - val_accuracy: 0.6620\n",
            "Epoch 6/100\n",
            "2089/2089 [==============================] - 8s 4ms/step - loss: 0.1674 - accuracy: 0.9338 - val_loss: 1415508.5000 - val_accuracy: 0.6297\n",
            "Epoch 7/100\n",
            "2089/2089 [==============================] - 8s 4ms/step - loss: 0.1631 - accuracy: 0.9353 - val_loss: 1679986.6250 - val_accuracy: 0.8214\n",
            "Epoch 8/100\n",
            "2089/2089 [==============================] - 9s 4ms/step - loss: 0.1634 - accuracy: 0.9352 - val_loss: 2035035.2500 - val_accuracy: 0.8200\n",
            "Epoch 9/100\n",
            "2089/2089 [==============================] - 9s 4ms/step - loss: 0.1642 - accuracy: 0.9352 - val_loss: 2179447.0000 - val_accuracy: 0.8334\n",
            "Epoch 10/100\n",
            "2089/2089 [==============================] - 8s 4ms/step - loss: 0.1637 - accuracy: 0.9358 - val_loss: 3116389.7500 - val_accuracy: 0.8255\n",
            "Epoch 11/100\n",
            "2089/2089 [==============================] - 9s 4ms/step - loss: 0.1650 - accuracy: 0.9351 - val_loss: 2860549.5000 - val_accuracy: 0.8281\n",
            "Epoch 12/100\n",
            "2089/2089 [==============================] - 8s 4ms/step - loss: 0.1583 - accuracy: 0.9375 - val_loss: 3259517.7500 - val_accuracy: 0.8277\n",
            "Epoch 13/100\n",
            "2089/2089 [==============================] - 8s 4ms/step - loss: 0.1544 - accuracy: 0.9384 - val_loss: 3232008.7500 - val_accuracy: 0.8279\n",
            "Epoch 14/100\n",
            "2089/2089 [==============================] - 8s 4ms/step - loss: 0.1580 - accuracy: 0.9366 - val_loss: 5852396.5000 - val_accuracy: 0.8262\n",
            "Epoch 15/100\n",
            "2089/2089 [==============================] - 9s 4ms/step - loss: 0.1490 - accuracy: 0.9405 - val_loss: 5509831.0000 - val_accuracy: 0.8278\n",
            "Epoch 16/100\n",
            "2089/2089 [==============================] - 9s 4ms/step - loss: 0.1446 - accuracy: 0.9422 - val_loss: 7210923.5000 - val_accuracy: 0.8284\n",
            "Epoch 17/100\n",
            "2089/2089 [==============================] - 8s 4ms/step - loss: 0.1515 - accuracy: 0.9391 - val_loss: 7833211.5000 - val_accuracy: 0.8278\n",
            "Epoch 18/100\n",
            "2089/2089 [==============================] - 9s 4ms/step - loss: 0.1473 - accuracy: 0.9409 - val_loss: 5691707.5000 - val_accuracy: 0.8282\n",
            "Epoch 19/100\n",
            "2089/2089 [==============================] - 10s 5ms/step - loss: 0.1459 - accuracy: 0.9422 - val_loss: 6730077.0000 - val_accuracy: 0.8282\n",
            "Epoch 20/100\n",
            "2089/2089 [==============================] - 8s 4ms/step - loss: 0.1444 - accuracy: 0.9425 - val_loss: 5169048.0000 - val_accuracy: 0.8274\n",
            "Epoch 21/100\n",
            "2089/2089 [==============================] - 8s 4ms/step - loss: 0.1438 - accuracy: 0.9423 - val_loss: 8369827.5000 - val_accuracy: 0.8263\n",
            "Epoch 22/100\n",
            "2089/2089 [==============================] - 9s 4ms/step - loss: 0.1394 - accuracy: 0.9437 - val_loss: 10315871.0000 - val_accuracy: 0.8269\n",
            "Epoch 23/100\n",
            "2089/2089 [==============================] - 8s 4ms/step - loss: 0.1392 - accuracy: 0.9439 - val_loss: 14258538.0000 - val_accuracy: 0.8280\n",
            "Epoch 24/100\n",
            "2089/2089 [==============================] - 8s 4ms/step - loss: 0.1360 - accuracy: 0.9455 - val_loss: 13587162.0000 - val_accuracy: 0.8260\n",
            "Epoch 25/100\n",
            "2089/2089 [==============================] - 9s 4ms/step - loss: 0.1372 - accuracy: 0.9448 - val_loss: 9277071.0000 - val_accuracy: 0.8270\n",
            "Epoch 26/100\n",
            "2089/2089 [==============================] - 8s 4ms/step - loss: 0.1355 - accuracy: 0.9455 - val_loss: 11709994.0000 - val_accuracy: 0.8267\n",
            "Epoch 27/100\n",
            "2089/2089 [==============================] - 9s 4ms/step - loss: 0.1326 - accuracy: 0.9468 - val_loss: 13342187.0000 - val_accuracy: 0.8271\n",
            "Epoch 28/100\n",
            "2089/2089 [==============================] - 9s 4ms/step - loss: 0.1302 - accuracy: 0.9481 - val_loss: 8343947.5000 - val_accuracy: 0.8226\n",
            "Epoch 29/100\n",
            "2089/2089 [==============================] - 9s 4ms/step - loss: 0.1310 - accuracy: 0.9476 - val_loss: 9429913.0000 - val_accuracy: 0.8263\n",
            "Epoch 30/100\n",
            "2089/2089 [==============================] - 9s 4ms/step - loss: 0.1336 - accuracy: 0.9461 - val_loss: 7644302.0000 - val_accuracy: 0.8233\n",
            "Epoch 31/100\n",
            "2089/2089 [==============================] - 9s 4ms/step - loss: 0.1309 - accuracy: 0.9473 - val_loss: 15640728.0000 - val_accuracy: 0.8248\n",
            "Epoch 32/100\n",
            "2089/2089 [==============================] - 9s 4ms/step - loss: 0.1300 - accuracy: 0.9478 - val_loss: 12943194.0000 - val_accuracy: 0.8268\n",
            "Epoch 33/100\n",
            "2089/2089 [==============================] - 9s 4ms/step - loss: 0.1276 - accuracy: 0.9488 - val_loss: 15303015.0000 - val_accuracy: 0.8267\n",
            "Epoch 34/100\n",
            "2089/2089 [==============================] - 8s 4ms/step - loss: 0.1273 - accuracy: 0.9486 - val_loss: 16016292.0000 - val_accuracy: 0.8144\n",
            "Epoch 35/100\n",
            "2089/2089 [==============================] - 8s 4ms/step - loss: 0.1285 - accuracy: 0.9479 - val_loss: 13141066.0000 - val_accuracy: 0.7858\n",
            "Epoch 36/100\n",
            "2089/2089 [==============================] - 8s 4ms/step - loss: 0.1257 - accuracy: 0.9493 - val_loss: 20626914.0000 - val_accuracy: 0.7799\n",
            "Epoch 37/100\n",
            "2089/2089 [==============================] - 8s 4ms/step - loss: 0.1288 - accuracy: 0.9480 - val_loss: 12713231.0000 - val_accuracy: 0.7866\n",
            "Epoch 38/100\n",
            "2089/2089 [==============================] - 8s 4ms/step - loss: 0.1280 - accuracy: 0.9485 - val_loss: 16059986.0000 - val_accuracy: 0.7813\n",
            "Epoch 39/100\n",
            "2089/2089 [==============================] - 8s 4ms/step - loss: 0.1316 - accuracy: 0.9469 - val_loss: 18098298.0000 - val_accuracy: 0.7817\n",
            "Epoch 40/100\n",
            "2089/2089 [==============================] - 10s 5ms/step - loss: 0.1326 - accuracy: 0.9465 - val_loss: 12974187.0000 - val_accuracy: 0.7803\n",
            "Epoch 41/100\n",
            "2089/2089 [==============================] - 8s 4ms/step - loss: 0.1308 - accuracy: 0.9475 - val_loss: 13445062.0000 - val_accuracy: 0.7831\n",
            "Epoch 42/100\n",
            "2089/2089 [==============================] - 8s 4ms/step - loss: 0.1306 - accuracy: 0.9477 - val_loss: 18010004.0000 - val_accuracy: 0.8151\n",
            "Epoch 43/100\n",
            "2089/2089 [==============================] - 8s 4ms/step - loss: 0.1306 - accuracy: 0.9477 - val_loss: 14133944.0000 - val_accuracy: 0.8250\n",
            "Epoch 44/100\n",
            "2089/2089 [==============================] - 9s 4ms/step - loss: 0.1328 - accuracy: 0.9465 - val_loss: 18067952.0000 - val_accuracy: 0.8265\n",
            "Epoch 45/100\n",
            "2089/2089 [==============================] - 8s 4ms/step - loss: 0.1260 - accuracy: 0.9495 - val_loss: 17696172.0000 - val_accuracy: 0.8269\n",
            "Epoch 46/100\n",
            "2089/2089 [==============================] - 9s 4ms/step - loss: 0.1254 - accuracy: 0.9503 - val_loss: 13729153.0000 - val_accuracy: 0.8253\n",
            "Epoch 47/100\n",
            "2089/2089 [==============================] - 8s 4ms/step - loss: 0.1239 - accuracy: 0.9514 - val_loss: 15659182.0000 - val_accuracy: 0.8259\n",
            "Epoch 48/100\n",
            "2089/2089 [==============================] - 8s 4ms/step - loss: 0.1232 - accuracy: 0.9516 - val_loss: 28049122.0000 - val_accuracy: 0.8278\n",
            "Epoch 49/100\n",
            "2089/2089 [==============================] - 9s 4ms/step - loss: 0.1231 - accuracy: 0.9514 - val_loss: 20759584.0000 - val_accuracy: 0.8262\n",
            "Epoch 50/100\n",
            "2089/2089 [==============================] - 9s 4ms/step - loss: 0.1209 - accuracy: 0.9521 - val_loss: 31153958.0000 - val_accuracy: 0.8281\n",
            "Epoch 51/100\n",
            "2089/2089 [==============================] - 9s 4ms/step - loss: 0.1199 - accuracy: 0.9526 - val_loss: 32654676.0000 - val_accuracy: 0.8286\n",
            "Epoch 52/100\n",
            "2089/2089 [==============================] - 9s 4ms/step - loss: 0.1194 - accuracy: 0.9527 - val_loss: 30725168.0000 - val_accuracy: 0.8264\n",
            "Epoch 53/100\n",
            "2089/2089 [==============================] - 9s 4ms/step - loss: 0.1189 - accuracy: 0.9529 - val_loss: 51110628.0000 - val_accuracy: 0.8285\n",
            "Epoch 54/100\n",
            "2089/2089 [==============================] - 9s 4ms/step - loss: 0.1204 - accuracy: 0.9524 - val_loss: 34694660.0000 - val_accuracy: 0.8267\n",
            "Epoch 55/100\n",
            "2089/2089 [==============================] - 8s 4ms/step - loss: 0.1200 - accuracy: 0.9527 - val_loss: 43152740.0000 - val_accuracy: 0.8288\n",
            "Epoch 56/100\n",
            "2089/2089 [==============================] - 8s 4ms/step - loss: 0.1240 - accuracy: 0.9505 - val_loss: 49200252.0000 - val_accuracy: 0.8290\n",
            "Epoch 57/100\n",
            "2089/2089 [==============================] - 8s 4ms/step - loss: 0.1247 - accuracy: 0.9496 - val_loss: 57084640.0000 - val_accuracy: 0.8290\n",
            "Epoch 58/100\n",
            "2089/2089 [==============================] - 9s 4ms/step - loss: 0.1244 - accuracy: 0.9495 - val_loss: 52822152.0000 - val_accuracy: 0.8299\n",
            "Epoch 59/100\n",
            "2089/2089 [==============================] - 9s 4ms/step - loss: 0.1236 - accuracy: 0.9496 - val_loss: 66898504.0000 - val_accuracy: 0.8291\n",
            "Epoch 60/100\n",
            "2089/2089 [==============================] - 9s 4ms/step - loss: 0.1218 - accuracy: 0.9505 - val_loss: 79402352.0000 - val_accuracy: 0.8290\n",
            "Epoch 61/100\n",
            "2089/2089 [==============================] - 9s 4ms/step - loss: 0.1210 - accuracy: 0.9507 - val_loss: 69278240.0000 - val_accuracy: 0.8287\n",
            "Epoch 62/100\n",
            "2089/2089 [==============================] - 9s 4ms/step - loss: 0.1215 - accuracy: 0.9506 - val_loss: 81950024.0000 - val_accuracy: 0.8298\n",
            "Epoch 63/100\n",
            "2089/2089 [==============================] - 9s 4ms/step - loss: 0.1182 - accuracy: 0.9516 - val_loss: 75074632.0000 - val_accuracy: 0.8286\n",
            "Epoch 64/100\n",
            "2089/2089 [==============================] - 9s 4ms/step - loss: 0.1178 - accuracy: 0.9515 - val_loss: 74721088.0000 - val_accuracy: 0.8292\n",
            "Epoch 65/100\n",
            "2089/2089 [==============================] - 9s 4ms/step - loss: 0.1178 - accuracy: 0.9513 - val_loss: 106579104.0000 - val_accuracy: 0.8297\n",
            "Epoch 66/100\n",
            "2089/2089 [==============================] - 9s 4ms/step - loss: 0.1206 - accuracy: 0.9507 - val_loss: 91072384.0000 - val_accuracy: 0.8299\n",
            "Epoch 67/100\n",
            "2089/2089 [==============================] - 9s 4ms/step - loss: 0.1182 - accuracy: 0.9515 - val_loss: 104304208.0000 - val_accuracy: 0.8303\n",
            "Epoch 68/100\n",
            "2089/2089 [==============================] - 9s 4ms/step - loss: 0.1197 - accuracy: 0.9512 - val_loss: 122423136.0000 - val_accuracy: 0.8294\n",
            "Epoch 69/100\n",
            "2089/2089 [==============================] - 9s 4ms/step - loss: 0.1166 - accuracy: 0.9522 - val_loss: 160436224.0000 - val_accuracy: 0.8303\n",
            "Epoch 70/100\n",
            "2089/2089 [==============================] - 10s 5ms/step - loss: 0.1171 - accuracy: 0.9522 - val_loss: 127333144.0000 - val_accuracy: 0.8302\n",
            "Epoch 71/100\n",
            "2089/2089 [==============================] - 8s 4ms/step - loss: 0.1161 - accuracy: 0.9526 - val_loss: 130304912.0000 - val_accuracy: 0.8303\n",
            "Epoch 72/100\n",
            "2089/2089 [==============================] - 8s 4ms/step - loss: 0.1169 - accuracy: 0.9521 - val_loss: 285199104.0000 - val_accuracy: 0.8304\n",
            "Epoch 73/100\n",
            "2089/2089 [==============================] - 8s 4ms/step - loss: 0.1250 - accuracy: 0.9493 - val_loss: 414398272.0000 - val_accuracy: 0.8279\n",
            "Epoch 74/100\n",
            "2089/2089 [==============================] - 9s 4ms/step - loss: 0.1226 - accuracy: 0.9500 - val_loss: 383760768.0000 - val_accuracy: 0.8303\n",
            "Epoch 75/100\n",
            "2089/2089 [==============================] - 9s 4ms/step - loss: 0.1217 - accuracy: 0.9502 - val_loss: 401678560.0000 - val_accuracy: 0.8303\n",
            "Epoch 76/100\n",
            "2089/2089 [==============================] - 9s 4ms/step - loss: 0.1180 - accuracy: 0.9521 - val_loss: 442210368.0000 - val_accuracy: 0.8303\n",
            "Epoch 77/100\n",
            "2089/2089 [==============================] - 9s 4ms/step - loss: 0.1205 - accuracy: 0.9516 - val_loss: 503169248.0000 - val_accuracy: 0.8279\n",
            "Epoch 78/100\n",
            "2089/2089 [==============================] - 9s 4ms/step - loss: 0.1222 - accuracy: 0.9510 - val_loss: 455769376.0000 - val_accuracy: 0.8279\n",
            "Epoch 79/100\n",
            "2089/2089 [==============================] - 9s 4ms/step - loss: 0.1192 - accuracy: 0.9522 - val_loss: 366986208.0000 - val_accuracy: 0.8278\n",
            "Epoch 80/100\n",
            "2089/2089 [==============================] - 10s 5ms/step - loss: 0.1187 - accuracy: 0.9524 - val_loss: 742990016.0000 - val_accuracy: 0.8280\n",
            "Epoch 81/100\n",
            "2089/2089 [==============================] - 9s 4ms/step - loss: 0.1204 - accuracy: 0.9514 - val_loss: 438082560.0000 - val_accuracy: 0.8279\n",
            "Epoch 82/100\n",
            "2089/2089 [==============================] - 9s 4ms/step - loss: 0.1187 - accuracy: 0.9524 - val_loss: 414755264.0000 - val_accuracy: 0.8278\n",
            "Epoch 83/100\n",
            "2089/2089 [==============================] - 9s 4ms/step - loss: 0.1152 - accuracy: 0.9534 - val_loss: 568121216.0000 - val_accuracy: 0.8279\n",
            "Epoch 84/100\n",
            "2089/2089 [==============================] - 9s 4ms/step - loss: 0.1120 - accuracy: 0.9546 - val_loss: 542950464.0000 - val_accuracy: 0.8279\n",
            "Epoch 85/100\n",
            "2089/2089 [==============================] - 9s 4ms/step - loss: 0.1095 - accuracy: 0.9554 - val_loss: 669022400.0000 - val_accuracy: 0.8280\n",
            "Epoch 86/100\n",
            "2089/2089 [==============================] - 9s 4ms/step - loss: 0.1108 - accuracy: 0.9552 - val_loss: 678764544.0000 - val_accuracy: 0.8280\n",
            "Epoch 87/100\n",
            "2089/2089 [==============================] - 9s 4ms/step - loss: 0.1102 - accuracy: 0.9552 - val_loss: 1115459968.0000 - val_accuracy: 0.8278\n",
            "Epoch 88/100\n",
            "2089/2089 [==============================] - 9s 4ms/step - loss: 0.1109 - accuracy: 0.9549 - val_loss: 1107852288.0000 - val_accuracy: 0.8278\n",
            "Epoch 89/100\n",
            "2089/2089 [==============================] - 9s 4ms/step - loss: 0.1108 - accuracy: 0.9549 - val_loss: 1225260544.0000 - val_accuracy: 0.8278\n",
            "Epoch 90/100\n",
            "2089/2089 [==============================] - 10s 5ms/step - loss: 0.1091 - accuracy: 0.9558 - val_loss: 641803136.0000 - val_accuracy: 0.8279\n",
            "Epoch 91/100\n",
            "2089/2089 [==============================] - 9s 4ms/step - loss: 0.1085 - accuracy: 0.9561 - val_loss: 781168640.0000 - val_accuracy: 0.8279\n",
            "Epoch 92/100\n",
            "2089/2089 [==============================] - 9s 4ms/step - loss: 0.1081 - accuracy: 0.9560 - val_loss: 1211390848.0000 - val_accuracy: 0.8280\n",
            "Epoch 93/100\n",
            "2089/2089 [==============================] - 9s 4ms/step - loss: 0.1063 - accuracy: 0.9570 - val_loss: 1092292864.0000 - val_accuracy: 0.8279\n",
            "Epoch 94/100\n",
            "2089/2089 [==============================] - 9s 4ms/step - loss: 0.1080 - accuracy: 0.9562 - val_loss: 1682852480.0000 - val_accuracy: 0.8280\n",
            "Epoch 95/100\n",
            "2089/2089 [==============================] - 9s 4ms/step - loss: 0.1050 - accuracy: 0.9574 - val_loss: 1020242432.0000 - val_accuracy: 0.8280\n",
            "Epoch 96/100\n",
            "2089/2089 [==============================] - 9s 4ms/step - loss: 0.1066 - accuracy: 0.9568 - val_loss: 1069085632.0000 - val_accuracy: 0.8279\n",
            "Epoch 97/100\n",
            "2089/2089 [==============================] - 9s 4ms/step - loss: 0.1058 - accuracy: 0.9570 - val_loss: 1321218944.0000 - val_accuracy: 0.8279\n",
            "Epoch 98/100\n",
            "2089/2089 [==============================] - 9s 5ms/step - loss: 0.1037 - accuracy: 0.9579 - val_loss: 1337857664.0000 - val_accuracy: 0.8279\n",
            "Epoch 99/100\n",
            "2089/2089 [==============================] - 11s 5ms/step - loss: 0.1051 - accuracy: 0.9572 - val_loss: 1167628032.0000 - val_accuracy: 0.8278\n",
            "Epoch 100/100\n",
            "2089/2089 [==============================] - 9s 4ms/step - loss: 0.1042 - accuracy: 0.9577 - val_loss: 1107527424.0000 - val_accuracy: 0.8279\n"
          ]
        },
        {
          "output_type": "execute_result",
          "data": {
            "text/plain": [
              "<keras.callbacks.History at 0x7fa1b059fb10>"
            ]
          },
          "metadata": {},
          "execution_count": 20
        }
      ]
    },
    {
      "cell_type": "code",
      "source": [
        ""
      ],
      "metadata": {
        "id": "NROxhZjVKXAV"
      },
      "execution_count": null,
      "outputs": []
    },
    {
      "cell_type": "code",
      "execution_count": null,
      "metadata": {
        "id": "9tahLSx0JH16"
      },
      "outputs": [],
      "source": [
        ""
      ]
    }
  ]
}