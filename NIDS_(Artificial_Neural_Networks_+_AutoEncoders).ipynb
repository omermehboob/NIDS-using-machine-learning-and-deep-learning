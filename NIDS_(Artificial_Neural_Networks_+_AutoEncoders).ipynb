{
  "nbformat": 4,
  "nbformat_minor": 0,
  "metadata": {
    "colab": {
      "name": "NIDS (Artificial Neural Networks + AutoEncoders)",
      "provenance": [],
      "collapsed_sections": [],
      "mount_file_id": "1xfdiqbZ4h1D0AWJHY-ZXtyOlm6XqjPaj",
      "authorship_tag": "ABX9TyNEbe1TQCDyrciMnIJbeMUb",
      "include_colab_link": true
    },
    "kernelspec": {
      "name": "python3",
      "display_name": "Python 3"
    },
    "language_info": {
      "name": "python"
    },
    "accelerator": "GPU",
    "gpuClass": "standard"
  },
  "cells": [
    {
      "cell_type": "markdown",
      "metadata": {
        "id": "view-in-github",
        "colab_type": "text"
      },
      "source": [
        "<a href=\"https://colab.research.google.com/github/omermehboob/NIDS-using-machine-learning-and-deep-learning/blob/main/NIDS_(Artificial_Neural_Networks_%2B_AutoEncoders).ipynb\" target=\"_parent\"><img src=\"https://colab.research.google.com/assets/colab-badge.svg\" alt=\"Open In Colab\"/></a>"
      ]
    },
    {
      "cell_type": "code",
      "execution_count": 1,
      "metadata": {
        "id": "HhOHor9b266H"
      },
      "outputs": [],
      "source": [
        "import pandas as pd\n",
        "import numpy as np"
      ]
    },
    {
      "cell_type": "code",
      "source": [
        "PATHS = [\n",
        "    '/content/drive/MyDrive/CICIDS2017/CSVs/Monday-WorkingHours.pcap_ISCX.csv',\n",
        "    '/content/drive/MyDrive/CICIDS2017/CSVs/Tuesday-WorkingHours.pcap_ISCX.csv',\n",
        "    '/content/drive/MyDrive/CICIDS2017/CSVs/Wednesday-workingHours.pcap_ISCX.csv',\n",
        "    '/content/drive/MyDrive/CICIDS2017/CSVs/Thursday-WorkingHours-Morning-WebAttacks.pcap_ISCX.csv',\n",
        "    '/content/drive/MyDrive/CICIDS2017/CSVs/Thursday-WorkingHours-Afternoon-Infilteration.pcap_ISCX.csv',\n",
        "    '/content/drive/MyDrive/CICIDS2017/CSVs/Friday-WorkingHours-Morning.pcap_ISCX.csv',\n",
        "    '/content/drive/MyDrive/CICIDS2017/CSVs/Friday-WorkingHours-Afternoon-PortScan.pcap_ISCX.csv',\n",
        "    '/content/drive/MyDrive/CICIDS2017/CSVs/Friday-WorkingHours-Afternoon-DDos.pcap_ISCX.csv'\n",
        "    \n",
        "]\n",
        "df = pd.read_csv(PATHS[0])\n",
        "for i in range(1,len(PATHS)):\n",
        "    temp = pd.read_csv(PATHS[i],encoding='cp1252')\n",
        "    df = pd.concat([df,temp])"
      ],
      "metadata": {
        "colab": {
          "base_uri": "https://localhost:8080/"
        },
        "id": "wArCy8yp3PGR",
        "outputId": "643cdf0c-a05e-4643-e794-9b93340132cd"
      },
      "execution_count": 3,
      "outputs": [
        {
          "output_type": "stream",
          "name": "stderr",
          "text": [
            "/usr/local/lib/python3.7/dist-packages/IPython/core/interactiveshell.py:2882: DtypeWarning: Columns (0,1,3,6,84) have mixed types.Specify dtype option on import or set low_memory=False.\n",
            "  exec(code_obj, self.user_global_ns, self.user_ns)\n",
            "/usr/local/lib/python3.7/dist-packages/IPython/core/interactiveshell.py:2882: DtypeWarning: Columns (85) have mixed types.Specify dtype option on import or set low_memory=False.\n",
            "  exec(code_obj, self.user_global_ns, self.user_ns)\n"
          ]
        }
      ]
    }
  ]
}