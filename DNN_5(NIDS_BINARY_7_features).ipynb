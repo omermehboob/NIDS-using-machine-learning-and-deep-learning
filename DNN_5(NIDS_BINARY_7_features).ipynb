{
  "nbformat": 4,
  "nbformat_minor": 0,
  "metadata": {
    "colab": {
      "name": "DNN_5 (NIDS_BINARY_7_features).ipynb",
      "provenance": [],
      "mount_file_id": "1FM79bcAUt4tvnYIjiUwQewgMu4kixASo",
      "authorship_tag": "ABX9TyOTgLLuReS9ezHzPE+3eqCk",
      "include_colab_link": true
    },
    "kernelspec": {
      "name": "python3",
      "display_name": "Python 3"
    },
    "language_info": {
      "name": "python"
    },
    "accelerator": "GPU",
    "gpuClass": "standard"
  },
  "cells": [
    {
      "cell_type": "markdown",
      "metadata": {
        "id": "view-in-github",
        "colab_type": "text"
      },
      "source": [
        "<a href=\"https://colab.research.google.com/github/omermehboob/NIDS-using-machine-learning-and-deep-learning/blob/main/DNN_5(NIDS_BINARY_7_features).ipynb\" target=\"_parent\"><img src=\"https://colab.research.google.com/assets/colab-badge.svg\" alt=\"Open In Colab\"/></a>"
      ]
    },
    {
      "cell_type": "code",
      "execution_count": 1,
      "metadata": {
        "id": "P0Y-FXCOatws"
      },
      "outputs": [],
      "source": [
        "from __future__ import print_function\n",
        "from sklearn.model_selection import train_test_split\n",
        "import pandas as pd\n",
        "import numpy as np\n",
        "np.random.seed(1337)  # for reproducibility\n",
        "from keras.preprocessing import sequence\n",
        "from keras.utils import np_utils\n",
        "from keras.models import Sequential\n",
        "from keras.layers import Dense, Dropout, Activation, Embedding\n",
        "from keras.utils.np_utils import to_categorical\n",
        "from sklearn.metrics import (precision_score, recall_score,f1_score, accuracy_score,mean_squared_error,mean_absolute_error)\n",
        "from sklearn import metrics\n",
        "from sklearn.preprocessing import Normalizer\n",
        "import h5py\n",
        "from keras import callbacks\n",
        "from keras.callbacks import ModelCheckpoint, EarlyStopping, ReduceLROnPlateau, CSVLogger"
      ]
    },
    {
      "cell_type": "code",
      "source": [
        "df = pd.read_csv('/content/drive/MyDrive/Refined_data_set(label_encoding_7_features).csv')"
      ],
      "metadata": {
        "id": "AJTCderoaxGm"
      },
      "execution_count": 4,
      "outputs": []
    },
    {
      "cell_type": "code",
      "source": [
        "df.shape"
      ],
      "metadata": {
        "id": "juzYAEkCaxDs",
        "colab": {
          "base_uri": "https://localhost:8080/"
        },
        "outputId": "0c294a33-2826-440b-8958-b719911ccc65"
      },
      "execution_count": 5,
      "outputs": [
        {
          "output_type": "execute_result",
          "data": {
            "text/plain": [
              "(1336498, 9)"
            ]
          },
          "metadata": {},
          "execution_count": 5
        }
      ]
    },
    {
      "cell_type": "code",
      "source": [
        "df.head()"
      ],
      "metadata": {
        "id": "7eUYvjp6axAX",
        "colab": {
          "base_uri": "https://localhost:8080/",
          "height": 268
        },
        "outputId": "9e96e290-e336-41ec-c87a-320223562b42"
      },
      "execution_count": 6,
      "outputs": [
        {
          "output_type": "execute_result",
          "data": {
            "text/plain": [
              "   Unnamed: 0  Bwd Packet Length Std  Flow Bytes/s  \\\n",
              "0           0                0.00000          2046   \n",
              "1           1                0.00000             7   \n",
              "2           2                0.00000             2   \n",
              "3           3                0.00000       1081081   \n",
              "4           4              426.14309            57   \n",
              "\n",
              "   Total Length of Fwd Packets  Fwd Packet Length Std  Flow IAT Std  \\\n",
              "0                        140.0               0.000000  7.124800e+04   \n",
              "1                         30.0               0.000000  2.005113e+06   \n",
              "2                         12.0               3.464102  3.057131e+06   \n",
              "3                         64.0               0.000000  4.901360e+01   \n",
              "4                       2691.0             181.667939  4.191832e+06   \n",
              "\n",
              "   Flow IAT Min  Fwd IAT Total  Label  \n",
              "0           3.0        29304.0      1  \n",
              "1          10.0      4016867.0      0  \n",
              "2          97.0      5318063.0      1  \n",
              "3           1.0           48.0      1  \n",
              "4          39.0    117000000.0      1  "
            ],
            "text/html": [
              "\n",
              "  <div id=\"df-872bb4b7-d56a-46ae-82c0-1d2a15d773a6\">\n",
              "    <div class=\"colab-df-container\">\n",
              "      <div>\n",
              "<style scoped>\n",
              "    .dataframe tbody tr th:only-of-type {\n",
              "        vertical-align: middle;\n",
              "    }\n",
              "\n",
              "    .dataframe tbody tr th {\n",
              "        vertical-align: top;\n",
              "    }\n",
              "\n",
              "    .dataframe thead th {\n",
              "        text-align: right;\n",
              "    }\n",
              "</style>\n",
              "<table border=\"1\" class=\"dataframe\">\n",
              "  <thead>\n",
              "    <tr style=\"text-align: right;\">\n",
              "      <th></th>\n",
              "      <th>Unnamed: 0</th>\n",
              "      <th>Bwd Packet Length Std</th>\n",
              "      <th>Flow Bytes/s</th>\n",
              "      <th>Total Length of Fwd Packets</th>\n",
              "      <th>Fwd Packet Length Std</th>\n",
              "      <th>Flow IAT Std</th>\n",
              "      <th>Flow IAT Min</th>\n",
              "      <th>Fwd IAT Total</th>\n",
              "      <th>Label</th>\n",
              "    </tr>\n",
              "  </thead>\n",
              "  <tbody>\n",
              "    <tr>\n",
              "      <th>0</th>\n",
              "      <td>0</td>\n",
              "      <td>0.00000</td>\n",
              "      <td>2046</td>\n",
              "      <td>140.0</td>\n",
              "      <td>0.000000</td>\n",
              "      <td>7.124800e+04</td>\n",
              "      <td>3.0</td>\n",
              "      <td>29304.0</td>\n",
              "      <td>1</td>\n",
              "    </tr>\n",
              "    <tr>\n",
              "      <th>1</th>\n",
              "      <td>1</td>\n",
              "      <td>0.00000</td>\n",
              "      <td>7</td>\n",
              "      <td>30.0</td>\n",
              "      <td>0.000000</td>\n",
              "      <td>2.005113e+06</td>\n",
              "      <td>10.0</td>\n",
              "      <td>4016867.0</td>\n",
              "      <td>0</td>\n",
              "    </tr>\n",
              "    <tr>\n",
              "      <th>2</th>\n",
              "      <td>2</td>\n",
              "      <td>0.00000</td>\n",
              "      <td>2</td>\n",
              "      <td>12.0</td>\n",
              "      <td>3.464102</td>\n",
              "      <td>3.057131e+06</td>\n",
              "      <td>97.0</td>\n",
              "      <td>5318063.0</td>\n",
              "      <td>1</td>\n",
              "    </tr>\n",
              "    <tr>\n",
              "      <th>3</th>\n",
              "      <td>3</td>\n",
              "      <td>0.00000</td>\n",
              "      <td>1081081</td>\n",
              "      <td>64.0</td>\n",
              "      <td>0.000000</td>\n",
              "      <td>4.901360e+01</td>\n",
              "      <td>1.0</td>\n",
              "      <td>48.0</td>\n",
              "      <td>1</td>\n",
              "    </tr>\n",
              "    <tr>\n",
              "      <th>4</th>\n",
              "      <td>4</td>\n",
              "      <td>426.14309</td>\n",
              "      <td>57</td>\n",
              "      <td>2691.0</td>\n",
              "      <td>181.667939</td>\n",
              "      <td>4.191832e+06</td>\n",
              "      <td>39.0</td>\n",
              "      <td>117000000.0</td>\n",
              "      <td>1</td>\n",
              "    </tr>\n",
              "  </tbody>\n",
              "</table>\n",
              "</div>\n",
              "      <button class=\"colab-df-convert\" onclick=\"convertToInteractive('df-872bb4b7-d56a-46ae-82c0-1d2a15d773a6')\"\n",
              "              title=\"Convert this dataframe to an interactive table.\"\n",
              "              style=\"display:none;\">\n",
              "        \n",
              "  <svg xmlns=\"http://www.w3.org/2000/svg\" height=\"24px\"viewBox=\"0 0 24 24\"\n",
              "       width=\"24px\">\n",
              "    <path d=\"M0 0h24v24H0V0z\" fill=\"none\"/>\n",
              "    <path d=\"M18.56 5.44l.94 2.06.94-2.06 2.06-.94-2.06-.94-.94-2.06-.94 2.06-2.06.94zm-11 1L8.5 8.5l.94-2.06 2.06-.94-2.06-.94L8.5 2.5l-.94 2.06-2.06.94zm10 10l.94 2.06.94-2.06 2.06-.94-2.06-.94-.94-2.06-.94 2.06-2.06.94z\"/><path d=\"M17.41 7.96l-1.37-1.37c-.4-.4-.92-.59-1.43-.59-.52 0-1.04.2-1.43.59L10.3 9.45l-7.72 7.72c-.78.78-.78 2.05 0 2.83L4 21.41c.39.39.9.59 1.41.59.51 0 1.02-.2 1.41-.59l7.78-7.78 2.81-2.81c.8-.78.8-2.07 0-2.86zM5.41 20L4 18.59l7.72-7.72 1.47 1.35L5.41 20z\"/>\n",
              "  </svg>\n",
              "      </button>\n",
              "      \n",
              "  <style>\n",
              "    .colab-df-container {\n",
              "      display:flex;\n",
              "      flex-wrap:wrap;\n",
              "      gap: 12px;\n",
              "    }\n",
              "\n",
              "    .colab-df-convert {\n",
              "      background-color: #E8F0FE;\n",
              "      border: none;\n",
              "      border-radius: 50%;\n",
              "      cursor: pointer;\n",
              "      display: none;\n",
              "      fill: #1967D2;\n",
              "      height: 32px;\n",
              "      padding: 0 0 0 0;\n",
              "      width: 32px;\n",
              "    }\n",
              "\n",
              "    .colab-df-convert:hover {\n",
              "      background-color: #E2EBFA;\n",
              "      box-shadow: 0px 1px 2px rgba(60, 64, 67, 0.3), 0px 1px 3px 1px rgba(60, 64, 67, 0.15);\n",
              "      fill: #174EA6;\n",
              "    }\n",
              "\n",
              "    [theme=dark] .colab-df-convert {\n",
              "      background-color: #3B4455;\n",
              "      fill: #D2E3FC;\n",
              "    }\n",
              "\n",
              "    [theme=dark] .colab-df-convert:hover {\n",
              "      background-color: #434B5C;\n",
              "      box-shadow: 0px 1px 3px 1px rgba(0, 0, 0, 0.15);\n",
              "      filter: drop-shadow(0px 1px 2px rgba(0, 0, 0, 0.3));\n",
              "      fill: #FFFFFF;\n",
              "    }\n",
              "  </style>\n",
              "\n",
              "      <script>\n",
              "        const buttonEl =\n",
              "          document.querySelector('#df-872bb4b7-d56a-46ae-82c0-1d2a15d773a6 button.colab-df-convert');\n",
              "        buttonEl.style.display =\n",
              "          google.colab.kernel.accessAllowed ? 'block' : 'none';\n",
              "\n",
              "        async function convertToInteractive(key) {\n",
              "          const element = document.querySelector('#df-872bb4b7-d56a-46ae-82c0-1d2a15d773a6');\n",
              "          const dataTable =\n",
              "            await google.colab.kernel.invokeFunction('convertToInteractive',\n",
              "                                                     [key], {});\n",
              "          if (!dataTable) return;\n",
              "\n",
              "          const docLinkHtml = 'Like what you see? Visit the ' +\n",
              "            '<a target=\"_blank\" href=https://colab.research.google.com/notebooks/data_table.ipynb>data table notebook</a>'\n",
              "            + ' to learn more about interactive tables.';\n",
              "          element.innerHTML = '';\n",
              "          dataTable['output_type'] = 'display_data';\n",
              "          await google.colab.output.renderOutput(dataTable, element);\n",
              "          const docLink = document.createElement('div');\n",
              "          docLink.innerHTML = docLinkHtml;\n",
              "          element.appendChild(docLink);\n",
              "        }\n",
              "      </script>\n",
              "    </div>\n",
              "  </div>\n",
              "  "
            ]
          },
          "metadata": {},
          "execution_count": 6
        }
      ]
    },
    {
      "cell_type": "code",
      "source": [
        "df.drop('Unnamed: 0', axis=1, inplace=True)"
      ],
      "metadata": {
        "id": "wSlFkf0Eaw_I"
      },
      "execution_count": 7,
      "outputs": []
    },
    {
      "cell_type": "code",
      "source": [
        "df.head()"
      ],
      "metadata": {
        "id": "siMzWHFlaw7s",
        "colab": {
          "base_uri": "https://localhost:8080/",
          "height": 268
        },
        "outputId": "85570689-3ced-4146-e390-14fd0704fdf8"
      },
      "execution_count": 8,
      "outputs": [
        {
          "output_type": "execute_result",
          "data": {
            "text/plain": [
              "   Bwd Packet Length Std  Flow Bytes/s  Total Length of Fwd Packets  \\\n",
              "0                0.00000          2046                        140.0   \n",
              "1                0.00000             7                         30.0   \n",
              "2                0.00000             2                         12.0   \n",
              "3                0.00000       1081081                         64.0   \n",
              "4              426.14309            57                       2691.0   \n",
              "\n",
              "   Fwd Packet Length Std  Flow IAT Std  Flow IAT Min  Fwd IAT Total  Label  \n",
              "0               0.000000  7.124800e+04           3.0        29304.0      1  \n",
              "1               0.000000  2.005113e+06          10.0      4016867.0      0  \n",
              "2               3.464102  3.057131e+06          97.0      5318063.0      1  \n",
              "3               0.000000  4.901360e+01           1.0           48.0      1  \n",
              "4             181.667939  4.191832e+06          39.0    117000000.0      1  "
            ],
            "text/html": [
              "\n",
              "  <div id=\"df-e49b20bb-c4cb-4df1-a0ff-4af61bc947c6\">\n",
              "    <div class=\"colab-df-container\">\n",
              "      <div>\n",
              "<style scoped>\n",
              "    .dataframe tbody tr th:only-of-type {\n",
              "        vertical-align: middle;\n",
              "    }\n",
              "\n",
              "    .dataframe tbody tr th {\n",
              "        vertical-align: top;\n",
              "    }\n",
              "\n",
              "    .dataframe thead th {\n",
              "        text-align: right;\n",
              "    }\n",
              "</style>\n",
              "<table border=\"1\" class=\"dataframe\">\n",
              "  <thead>\n",
              "    <tr style=\"text-align: right;\">\n",
              "      <th></th>\n",
              "      <th>Bwd Packet Length Std</th>\n",
              "      <th>Flow Bytes/s</th>\n",
              "      <th>Total Length of Fwd Packets</th>\n",
              "      <th>Fwd Packet Length Std</th>\n",
              "      <th>Flow IAT Std</th>\n",
              "      <th>Flow IAT Min</th>\n",
              "      <th>Fwd IAT Total</th>\n",
              "      <th>Label</th>\n",
              "    </tr>\n",
              "  </thead>\n",
              "  <tbody>\n",
              "    <tr>\n",
              "      <th>0</th>\n",
              "      <td>0.00000</td>\n",
              "      <td>2046</td>\n",
              "      <td>140.0</td>\n",
              "      <td>0.000000</td>\n",
              "      <td>7.124800e+04</td>\n",
              "      <td>3.0</td>\n",
              "      <td>29304.0</td>\n",
              "      <td>1</td>\n",
              "    </tr>\n",
              "    <tr>\n",
              "      <th>1</th>\n",
              "      <td>0.00000</td>\n",
              "      <td>7</td>\n",
              "      <td>30.0</td>\n",
              "      <td>0.000000</td>\n",
              "      <td>2.005113e+06</td>\n",
              "      <td>10.0</td>\n",
              "      <td>4016867.0</td>\n",
              "      <td>0</td>\n",
              "    </tr>\n",
              "    <tr>\n",
              "      <th>2</th>\n",
              "      <td>0.00000</td>\n",
              "      <td>2</td>\n",
              "      <td>12.0</td>\n",
              "      <td>3.464102</td>\n",
              "      <td>3.057131e+06</td>\n",
              "      <td>97.0</td>\n",
              "      <td>5318063.0</td>\n",
              "      <td>1</td>\n",
              "    </tr>\n",
              "    <tr>\n",
              "      <th>3</th>\n",
              "      <td>0.00000</td>\n",
              "      <td>1081081</td>\n",
              "      <td>64.0</td>\n",
              "      <td>0.000000</td>\n",
              "      <td>4.901360e+01</td>\n",
              "      <td>1.0</td>\n",
              "      <td>48.0</td>\n",
              "      <td>1</td>\n",
              "    </tr>\n",
              "    <tr>\n",
              "      <th>4</th>\n",
              "      <td>426.14309</td>\n",
              "      <td>57</td>\n",
              "      <td>2691.0</td>\n",
              "      <td>181.667939</td>\n",
              "      <td>4.191832e+06</td>\n",
              "      <td>39.0</td>\n",
              "      <td>117000000.0</td>\n",
              "      <td>1</td>\n",
              "    </tr>\n",
              "  </tbody>\n",
              "</table>\n",
              "</div>\n",
              "      <button class=\"colab-df-convert\" onclick=\"convertToInteractive('df-e49b20bb-c4cb-4df1-a0ff-4af61bc947c6')\"\n",
              "              title=\"Convert this dataframe to an interactive table.\"\n",
              "              style=\"display:none;\">\n",
              "        \n",
              "  <svg xmlns=\"http://www.w3.org/2000/svg\" height=\"24px\"viewBox=\"0 0 24 24\"\n",
              "       width=\"24px\">\n",
              "    <path d=\"M0 0h24v24H0V0z\" fill=\"none\"/>\n",
              "    <path d=\"M18.56 5.44l.94 2.06.94-2.06 2.06-.94-2.06-.94-.94-2.06-.94 2.06-2.06.94zm-11 1L8.5 8.5l.94-2.06 2.06-.94-2.06-.94L8.5 2.5l-.94 2.06-2.06.94zm10 10l.94 2.06.94-2.06 2.06-.94-2.06-.94-.94-2.06-.94 2.06-2.06.94z\"/><path d=\"M17.41 7.96l-1.37-1.37c-.4-.4-.92-.59-1.43-.59-.52 0-1.04.2-1.43.59L10.3 9.45l-7.72 7.72c-.78.78-.78 2.05 0 2.83L4 21.41c.39.39.9.59 1.41.59.51 0 1.02-.2 1.41-.59l7.78-7.78 2.81-2.81c.8-.78.8-2.07 0-2.86zM5.41 20L4 18.59l7.72-7.72 1.47 1.35L5.41 20z\"/>\n",
              "  </svg>\n",
              "      </button>\n",
              "      \n",
              "  <style>\n",
              "    .colab-df-container {\n",
              "      display:flex;\n",
              "      flex-wrap:wrap;\n",
              "      gap: 12px;\n",
              "    }\n",
              "\n",
              "    .colab-df-convert {\n",
              "      background-color: #E8F0FE;\n",
              "      border: none;\n",
              "      border-radius: 50%;\n",
              "      cursor: pointer;\n",
              "      display: none;\n",
              "      fill: #1967D2;\n",
              "      height: 32px;\n",
              "      padding: 0 0 0 0;\n",
              "      width: 32px;\n",
              "    }\n",
              "\n",
              "    .colab-df-convert:hover {\n",
              "      background-color: #E2EBFA;\n",
              "      box-shadow: 0px 1px 2px rgba(60, 64, 67, 0.3), 0px 1px 3px 1px rgba(60, 64, 67, 0.15);\n",
              "      fill: #174EA6;\n",
              "    }\n",
              "\n",
              "    [theme=dark] .colab-df-convert {\n",
              "      background-color: #3B4455;\n",
              "      fill: #D2E3FC;\n",
              "    }\n",
              "\n",
              "    [theme=dark] .colab-df-convert:hover {\n",
              "      background-color: #434B5C;\n",
              "      box-shadow: 0px 1px 3px 1px rgba(0, 0, 0, 0.15);\n",
              "      filter: drop-shadow(0px 1px 2px rgba(0, 0, 0, 0.3));\n",
              "      fill: #FFFFFF;\n",
              "    }\n",
              "  </style>\n",
              "\n",
              "      <script>\n",
              "        const buttonEl =\n",
              "          document.querySelector('#df-e49b20bb-c4cb-4df1-a0ff-4af61bc947c6 button.colab-df-convert');\n",
              "        buttonEl.style.display =\n",
              "          google.colab.kernel.accessAllowed ? 'block' : 'none';\n",
              "\n",
              "        async function convertToInteractive(key) {\n",
              "          const element = document.querySelector('#df-e49b20bb-c4cb-4df1-a0ff-4af61bc947c6');\n",
              "          const dataTable =\n",
              "            await google.colab.kernel.invokeFunction('convertToInteractive',\n",
              "                                                     [key], {});\n",
              "          if (!dataTable) return;\n",
              "\n",
              "          const docLinkHtml = 'Like what you see? Visit the ' +\n",
              "            '<a target=\"_blank\" href=https://colab.research.google.com/notebooks/data_table.ipynb>data table notebook</a>'\n",
              "            + ' to learn more about interactive tables.';\n",
              "          element.innerHTML = '';\n",
              "          dataTable['output_type'] = 'display_data';\n",
              "          await google.colab.output.renderOutput(dataTable, element);\n",
              "          const docLink = document.createElement('div');\n",
              "          docLink.innerHTML = docLinkHtml;\n",
              "          element.appendChild(docLink);\n",
              "        }\n",
              "      </script>\n",
              "    </div>\n",
              "  </div>\n",
              "  "
            ]
          },
          "metadata": {},
          "execution_count": 8
        }
      ]
    },
    {
      "cell_type": "code",
      "source": [
        "X=df[[\"Bwd Packet Length Std\", \"Flow Bytes/s\", \"Total Length of Fwd Packets\", \"Fwd Packet Length Std\",\n",
        "     \"Flow IAT Std\", \"Flow IAT Min\", \"Fwd IAT Total\"]]\n",
        "y=df[[\"Label\"]]"
      ],
      "metadata": {
        "id": "nkaPZ29Raw6k"
      },
      "execution_count": 9,
      "outputs": []
    },
    {
      "cell_type": "code",
      "source": [
        "print(X.shape)\n",
        "print(y.shape)"
      ],
      "metadata": {
        "id": "PTCEfbBoaw2c",
        "colab": {
          "base_uri": "https://localhost:8080/"
        },
        "outputId": "17c76701-4abf-4b7e-abb5-7cbf9a25ba80"
      },
      "execution_count": 10,
      "outputs": [
        {
          "output_type": "stream",
          "name": "stdout",
          "text": [
            "(1336498, 7)\n",
            "(1336498, 1)\n"
          ]
        }
      ]
    },
    {
      "cell_type": "code",
      "source": [
        "X_train, X_test, y_train, y_test = train_test_split(X, y, test_size = 0.20)"
      ],
      "metadata": {
        "id": "xqKjRgr7aw03"
      },
      "execution_count": 11,
      "outputs": []
    },
    {
      "cell_type": "code",
      "source": [
        "scaler = Normalizer().fit(X_train)\n",
        "X_train = scaler.transform(X_train)\n",
        "\n",
        "scaler = Normalizer().fit(y_train)\n",
        "y_train = scaler.transform(y_train)"
      ],
      "metadata": {
        "id": "djcwv4R0awx5"
      },
      "execution_count": 12,
      "outputs": []
    },
    {
      "cell_type": "code",
      "source": [
        "model = Sequential()\n",
        "model.add(Dense(1024,input_dim=7,activation='relu'))  \n",
        "model.add(Dropout(0.10))\n",
        "model.add(Dense(768,activation='relu'))  \n",
        "model.add(Dropout(0.10))\n",
        "model.add(Dense(512,activation='relu'))  \n",
        "model.add(Dropout(0.10))\n",
        "model.add(Dense(256,activation='relu'))  \n",
        "model.add(Dropout(0.10))\n",
        "model.add(Dense(128,activation='relu'))  \n",
        "model.add(Dropout(0.10))\n",
        "model.add(Dense(1))\n",
        "model.add(Activation('sigmoid'))\n",
        "\n",
        "\n",
        "model.summary()"
      ],
      "metadata": {
        "id": "vqBAgCJdawwk",
        "colab": {
          "base_uri": "https://localhost:8080/"
        },
        "outputId": "f2fe37ce-d410-438a-a015-96cf06d5adff"
      },
      "execution_count": 13,
      "outputs": [
        {
          "output_type": "stream",
          "name": "stdout",
          "text": [
            "Model: \"sequential_1\"\n",
            "_________________________________________________________________\n",
            " Layer (type)                Output Shape              Param #   \n",
            "=================================================================\n",
            " dense_6 (Dense)             (None, 1024)              8192      \n",
            "                                                                 \n",
            " dropout_5 (Dropout)         (None, 1024)              0         \n",
            "                                                                 \n",
            " dense_7 (Dense)             (None, 768)               787200    \n",
            "                                                                 \n",
            " dropout_6 (Dropout)         (None, 768)               0         \n",
            "                                                                 \n",
            " dense_8 (Dense)             (None, 512)               393728    \n",
            "                                                                 \n",
            " dropout_7 (Dropout)         (None, 512)               0         \n",
            "                                                                 \n",
            " dense_9 (Dense)             (None, 256)               131328    \n",
            "                                                                 \n",
            " dropout_8 (Dropout)         (None, 256)               0         \n",
            "                                                                 \n",
            " dense_10 (Dense)            (None, 128)               32896     \n",
            "                                                                 \n",
            " dropout_9 (Dropout)         (None, 128)               0         \n",
            "                                                                 \n",
            " dense_11 (Dense)            (None, 1)                 129       \n",
            "                                                                 \n",
            " activation_1 (Activation)   (None, 1)                 0         \n",
            "                                                                 \n",
            "=================================================================\n",
            "Total params: 1,353,473\n",
            "Trainable params: 1,353,473\n",
            "Non-trainable params: 0\n",
            "_________________________________________________________________\n"
          ]
        }
      ]
    },
    {
      "cell_type": "code",
      "source": [
        "model.compile(loss='binary_crossentropy',optimizer='adam',metrics=['accuracy'])\n",
        "model.fit(X_train, y_train, validation_data=(X_test, y_test), batch_size=512, epochs=60)"
      ],
      "metadata": {
        "id": "bSrl13xwbr3v",
        "colab": {
          "base_uri": "https://localhost:8080/"
        },
        "outputId": "a88f72d2-b6d6-4474-bfb1-4d6e2ac717dd"
      },
      "execution_count": 14,
      "outputs": [
        {
          "output_type": "stream",
          "name": "stdout",
          "text": [
            "Epoch 1/60\n",
            "2089/2089 [==============================] - 16s 6ms/step - loss: 0.3420 - accuracy: 0.8559 - val_loss: 1515359.6250 - val_accuracy: 0.8080\n",
            "Epoch 2/60\n",
            "2089/2089 [==============================] - 9s 4ms/step - loss: 0.3268 - accuracy: 0.8613 - val_loss: 1106455.3750 - val_accuracy: 0.8086\n",
            "Epoch 3/60\n",
            "2089/2089 [==============================] - 10s 5ms/step - loss: 0.3218 - accuracy: 0.8631 - val_loss: 1033469.2500 - val_accuracy: 0.8212\n",
            "Epoch 4/60\n",
            "2089/2089 [==============================] - 9s 4ms/step - loss: 0.3181 - accuracy: 0.8645 - val_loss: 704949.6875 - val_accuracy: 0.8485\n",
            "Epoch 5/60\n",
            "2089/2089 [==============================] - 11s 5ms/step - loss: 0.3138 - accuracy: 0.8665 - val_loss: 1472932.8750 - val_accuracy: 0.8444\n",
            "Epoch 6/60\n",
            "2089/2089 [==============================] - 10s 5ms/step - loss: 0.3060 - accuracy: 0.8702 - val_loss: 980480.3125 - val_accuracy: 0.8165\n",
            "Epoch 7/60\n",
            "2089/2089 [==============================] - 10s 5ms/step - loss: 0.2974 - accuracy: 0.8734 - val_loss: 1251639.1250 - val_accuracy: 0.8265\n",
            "Epoch 8/60\n",
            "2089/2089 [==============================] - 11s 5ms/step - loss: 0.2830 - accuracy: 0.8776 - val_loss: 1058173.0000 - val_accuracy: 0.8264\n",
            "Epoch 9/60\n",
            "2089/2089 [==============================] - 10s 5ms/step - loss: 0.2399 - accuracy: 0.8968 - val_loss: 3131245.2500 - val_accuracy: 0.8273\n",
            "Epoch 10/60\n",
            "2089/2089 [==============================] - 10s 5ms/step - loss: 0.2412 - accuracy: 0.8941 - val_loss: 3640813.0000 - val_accuracy: 0.8271\n",
            "Epoch 11/60\n",
            "2089/2089 [==============================] - 10s 5ms/step - loss: 0.2365 - accuracy: 0.8953 - val_loss: 7753131.5000 - val_accuracy: 0.8269\n",
            "Epoch 12/60\n",
            "2089/2089 [==============================] - 10s 5ms/step - loss: 0.2281 - accuracy: 0.9036 - val_loss: 11672189.0000 - val_accuracy: 0.8269\n",
            "Epoch 13/60\n",
            "2089/2089 [==============================] - 9s 5ms/step - loss: 0.2143 - accuracy: 0.9105 - val_loss: 6952477.5000 - val_accuracy: 0.8262\n",
            "Epoch 14/60\n",
            "2089/2089 [==============================] - 10s 5ms/step - loss: 0.2204 - accuracy: 0.9066 - val_loss: 12672555.0000 - val_accuracy: 0.8251\n",
            "Epoch 15/60\n",
            "2089/2089 [==============================] - 10s 5ms/step - loss: 0.2204 - accuracy: 0.9068 - val_loss: 13582135.0000 - val_accuracy: 0.8255\n",
            "Epoch 16/60\n",
            "2089/2089 [==============================] - 10s 5ms/step - loss: 0.2354 - accuracy: 0.8949 - val_loss: 25640100.0000 - val_accuracy: 0.8260\n",
            "Epoch 17/60\n",
            "2089/2089 [==============================] - 10s 5ms/step - loss: 0.2209 - accuracy: 0.9055 - val_loss: 33257198.0000 - val_accuracy: 0.8253\n",
            "Epoch 18/60\n",
            "2089/2089 [==============================] - 10s 5ms/step - loss: 0.2154 - accuracy: 0.9088 - val_loss: 86073792.0000 - val_accuracy: 0.8245\n",
            "Epoch 19/60\n",
            "2089/2089 [==============================] - 10s 5ms/step - loss: 0.2113 - accuracy: 0.9120 - val_loss: 132137176.0000 - val_accuracy: 0.8245\n",
            "Epoch 20/60\n",
            "2089/2089 [==============================] - 10s 5ms/step - loss: 0.2208 - accuracy: 0.9073 - val_loss: 178668720.0000 - val_accuracy: 0.8245\n",
            "Epoch 21/60\n",
            "2089/2089 [==============================] - 10s 5ms/step - loss: 0.2114 - accuracy: 0.9124 - val_loss: 174446640.0000 - val_accuracy: 0.8245\n",
            "Epoch 22/60\n",
            "2089/2089 [==============================] - 9s 4ms/step - loss: 0.2091 - accuracy: 0.9136 - val_loss: 162961152.0000 - val_accuracy: 0.8243\n",
            "Epoch 23/60\n",
            "2089/2089 [==============================] - 10s 5ms/step - loss: 0.2196 - accuracy: 0.9047 - val_loss: 189523680.0000 - val_accuracy: 0.8242\n",
            "Epoch 24/60\n",
            "2089/2089 [==============================] - 10s 5ms/step - loss: 0.2298 - accuracy: 0.9036 - val_loss: 214770912.0000 - val_accuracy: 0.8241\n",
            "Epoch 25/60\n",
            "2089/2089 [==============================] - 10s 5ms/step - loss: 0.2131 - accuracy: 0.9099 - val_loss: 330406496.0000 - val_accuracy: 0.8241\n",
            "Epoch 26/60\n",
            "2089/2089 [==============================] - 10s 5ms/step - loss: 0.2079 - accuracy: 0.9111 - val_loss: 632906816.0000 - val_accuracy: 0.8241\n",
            "Epoch 27/60\n",
            "2089/2089 [==============================] - 10s 5ms/step - loss: 0.2110 - accuracy: 0.9080 - val_loss: 836660992.0000 - val_accuracy: 0.8241\n",
            "Epoch 28/60\n",
            "2089/2089 [==============================] - 10s 5ms/step - loss: 0.2059 - accuracy: 0.9108 - val_loss: 869389952.0000 - val_accuracy: 0.8241\n",
            "Epoch 29/60\n",
            "2089/2089 [==============================] - 10s 5ms/step - loss: 0.2074 - accuracy: 0.9104 - val_loss: 594112000.0000 - val_accuracy: 0.8241\n",
            "Epoch 30/60\n",
            "2089/2089 [==============================] - 9s 5ms/step - loss: 0.1985 - accuracy: 0.9146 - val_loss: 861568512.0000 - val_accuracy: 0.8241\n",
            "Epoch 31/60\n",
            "2089/2089 [==============================] - 9s 5ms/step - loss: 0.1970 - accuracy: 0.9148 - val_loss: 1074702336.0000 - val_accuracy: 0.8241\n",
            "Epoch 32/60\n",
            "2089/2089 [==============================] - 10s 5ms/step - loss: 0.2033 - accuracy: 0.9113 - val_loss: 1312982272.0000 - val_accuracy: 0.8241\n",
            "Epoch 33/60\n",
            "2089/2089 [==============================] - 10s 5ms/step - loss: 0.1926 - accuracy: 0.9165 - val_loss: 1650297600.0000 - val_accuracy: 0.8241\n",
            "Epoch 34/60\n",
            "2089/2089 [==============================] - 10s 5ms/step - loss: 0.1845 - accuracy: 0.9202 - val_loss: 2045669376.0000 - val_accuracy: 0.8241\n",
            "Epoch 35/60\n",
            "2089/2089 [==============================] - 11s 5ms/step - loss: 0.1830 - accuracy: 0.9211 - val_loss: 1959660032.0000 - val_accuracy: 0.8241\n",
            "Epoch 36/60\n",
            "2089/2089 [==============================] - 10s 5ms/step - loss: 0.1814 - accuracy: 0.9217 - val_loss: 2892976128.0000 - val_accuracy: 0.8241\n",
            "Epoch 37/60\n",
            "2089/2089 [==============================] - 10s 5ms/step - loss: 0.1825 - accuracy: 0.9211 - val_loss: 3536079616.0000 - val_accuracy: 0.8241\n",
            "Epoch 38/60\n",
            "2089/2089 [==============================] - 10s 5ms/step - loss: 0.1802 - accuracy: 0.9225 - val_loss: 4638203904.0000 - val_accuracy: 0.8241\n",
            "Epoch 39/60\n",
            "2089/2089 [==============================] - 9s 5ms/step - loss: 0.1809 - accuracy: 0.9221 - val_loss: 4714953728.0000 - val_accuracy: 0.8241\n",
            "Epoch 40/60\n",
            "2089/2089 [==============================] - 9s 5ms/step - loss: 0.1780 - accuracy: 0.9236 - val_loss: 6116269568.0000 - val_accuracy: 0.8241\n",
            "Epoch 41/60\n",
            "2089/2089 [==============================] - 10s 5ms/step - loss: 0.1764 - accuracy: 0.9237 - val_loss: 7458534400.0000 - val_accuracy: 0.8241\n",
            "Epoch 42/60\n",
            "2089/2089 [==============================] - 10s 5ms/step - loss: 0.1775 - accuracy: 0.9236 - val_loss: 7102634496.0000 - val_accuracy: 0.8241\n",
            "Epoch 43/60\n",
            "2089/2089 [==============================] - 10s 5ms/step - loss: 0.1794 - accuracy: 0.9226 - val_loss: 7756517376.0000 - val_accuracy: 0.8241\n",
            "Epoch 44/60\n",
            "2089/2089 [==============================] - 10s 5ms/step - loss: 0.1782 - accuracy: 0.9231 - val_loss: 8946013184.0000 - val_accuracy: 0.8241\n",
            "Epoch 45/60\n",
            "2089/2089 [==============================] - 11s 5ms/step - loss: 0.1780 - accuracy: 0.9232 - val_loss: 9012523008.0000 - val_accuracy: 0.8241\n",
            "Epoch 46/60\n",
            "2089/2089 [==============================] - 9s 4ms/step - loss: 0.1770 - accuracy: 0.9239 - val_loss: 8949234688.0000 - val_accuracy: 0.8241\n",
            "Epoch 47/60\n",
            "2089/2089 [==============================] - 10s 5ms/step - loss: 0.1753 - accuracy: 0.9247 - val_loss: 12154861568.0000 - val_accuracy: 0.8241\n",
            "Epoch 48/60\n",
            "2089/2089 [==============================] - 10s 5ms/step - loss: 0.1755 - accuracy: 0.9246 - val_loss: 10520104960.0000 - val_accuracy: 0.8241\n",
            "Epoch 49/60\n",
            "2089/2089 [==============================] - 10s 5ms/step - loss: 0.1735 - accuracy: 0.9251 - val_loss: 9565147136.0000 - val_accuracy: 0.8241\n",
            "Epoch 50/60\n",
            "2089/2089 [==============================] - 10s 5ms/step - loss: 0.1730 - accuracy: 0.9253 - val_loss: 9528849408.0000 - val_accuracy: 0.8241\n",
            "Epoch 51/60\n",
            "2089/2089 [==============================] - 9s 4ms/step - loss: 0.1735 - accuracy: 0.9251 - val_loss: 10373532672.0000 - val_accuracy: 0.8241\n",
            "Epoch 52/60\n",
            "2089/2089 [==============================] - 9s 4ms/step - loss: 0.1769 - accuracy: 0.9244 - val_loss: 10046020608.0000 - val_accuracy: 0.8241\n",
            "Epoch 53/60\n",
            "2089/2089 [==============================] - 10s 5ms/step - loss: 0.1731 - accuracy: 0.9257 - val_loss: 17358532608.0000 - val_accuracy: 0.8241\n",
            "Epoch 54/60\n",
            "2089/2089 [==============================] - 9s 5ms/step - loss: 0.1734 - accuracy: 0.9252 - val_loss: 19564929024.0000 - val_accuracy: 0.8241\n",
            "Epoch 55/60\n",
            "2089/2089 [==============================] - 11s 5ms/step - loss: 0.1749 - accuracy: 0.9246 - val_loss: 20889456640.0000 - val_accuracy: 0.8241\n",
            "Epoch 56/60\n",
            "2089/2089 [==============================] - 9s 5ms/step - loss: 0.1736 - accuracy: 0.9252 - val_loss: 22863497216.0000 - val_accuracy: 0.8241\n",
            "Epoch 57/60\n",
            "2089/2089 [==============================] - 9s 5ms/step - loss: 0.1701 - accuracy: 0.9267 - val_loss: 26258651136.0000 - val_accuracy: 0.8241\n",
            "Epoch 58/60\n",
            "2089/2089 [==============================] - 10s 5ms/step - loss: 0.1760 - accuracy: 0.9241 - val_loss: 24434135040.0000 - val_accuracy: 0.8241\n",
            "Epoch 59/60\n",
            "2089/2089 [==============================] - 9s 4ms/step - loss: 0.1701 - accuracy: 0.9269 - val_loss: 28091453440.0000 - val_accuracy: 0.8241\n",
            "Epoch 60/60\n",
            "2089/2089 [==============================] - 9s 4ms/step - loss: 0.1691 - accuracy: 0.9275 - val_loss: 34083280896.0000 - val_accuracy: 0.8241\n"
          ]
        },
        {
          "output_type": "execute_result",
          "data": {
            "text/plain": [
              "<keras.callbacks.History at 0x7f181823bbd0>"
            ]
          },
          "metadata": {},
          "execution_count": 14
        }
      ]
    },
    {
      "cell_type": "code",
      "source": [
        "from sklearn import metrics\n",
        "def decode_sentiment(score):\n",
        "    return 1 if score>0.5 else 0"
      ],
      "metadata": {
        "id": "V3Bahg9nUjYS"
      },
      "execution_count": 15,
      "outputs": []
    },
    {
      "cell_type": "code",
      "source": [
        "scores = model.predict(X_test)\n",
        "y_pred = [decode_sentiment(score) for score in scores]\n",
        "accuracy=metrics.accuracy_score(y_test, y_pred)\n",
        "print(f'Accuracy of DNN_5 is {accuracy:.2f}%')"
      ],
      "metadata": {
        "colab": {
          "base_uri": "https://localhost:8080/"
        },
        "id": "yPsVU9pbUjPI",
        "outputId": "41a1e1af-2aaa-46eb-f1a9-69862da12509"
      },
      "execution_count": 16,
      "outputs": [
        {
          "output_type": "stream",
          "name": "stdout",
          "text": [
            "Accuracy of DNN_5 is 0.82%\n"
          ]
        }
      ]
    },
    {
      "cell_type": "code",
      "source": [
        "print(\"classification report:\")\n",
        "print(metrics.classification_report(y_test, y_pred))"
      ],
      "metadata": {
        "colab": {
          "base_uri": "https://localhost:8080/"
        },
        "id": "8NgHfwFPUjI_",
        "outputId": "ef967305-73f5-40da-899b-ebce9a148478"
      },
      "execution_count": 17,
      "outputs": [
        {
          "output_type": "stream",
          "name": "stdout",
          "text": [
            "classification report:\n",
            "              precision    recall  f1-score   support\n",
            "\n",
            "           0       0.64      0.00      0.00     47065\n",
            "           1       0.82      1.00      0.90    220235\n",
            "\n",
            "    accuracy                           0.82    267300\n",
            "   macro avg       0.73      0.50      0.45    267300\n",
            "weighted avg       0.79      0.82      0.75    267300\n",
            "\n"
          ]
        }
      ]
    }
  ]
}